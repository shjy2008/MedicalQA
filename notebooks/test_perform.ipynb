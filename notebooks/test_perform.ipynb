{
 "cells": [
  {
   "cell_type": "code",
   "execution_count": 1,
   "id": "349a8d9c-2c15-4b55-815b-a696377a14ce",
   "metadata": {},
   "outputs": [
    {
     "name": "stderr",
     "output_type": "stream",
     "text": [
      "/home/sheju347/.local/lib/python3.9/site-packages/tqdm/auto.py:21: TqdmWarning: IProgress not found. Please update jupyter and ipywidgets. See https://ipywidgets.readthedocs.io/en/stable/user_install.html\n",
      "  from .autonotebook import tqdm as notebook_tqdm\n"
     ]
    }
   ],
   "source": [
    "from model_trainer import ModelTrainer\n",
    "from test_performance import TestPerformance, DatasetPath, MMLU_Subset"
   ]
  },
  {
   "cell_type": "code",
   "execution_count": 2,
   "id": "283a1066-2c5f-47e4-86ab-2b539229b3ef",
   "metadata": {},
   "outputs": [
    {
     "name": "stdout",
     "output_type": "stream",
     "text": [
      "---------- start checking GPU -----------\n",
      "GPU: NVIDIA H100 NVL\n",
      "torch.cuda.is_bf16_supported():  True\n",
      "---------- finish checking GPU -----------\n",
      "---------- start loading model:/projects/sciences/computing/sheju347/MedicalQA/train/saved_models/fine_tuned_model_entire_UltraMedical_batch_4 -----------\n",
      "finish loading tokenizer\n"
     ]
    },
    {
     "name": "stderr",
     "output_type": "stream",
     "text": [
      "Loading checkpoint shards: 100%|██████████| 2/2 [00:03<00:00,  1.52s/it]\n"
     ]
    },
    {
     "name": "stdout",
     "output_type": "stream",
     "text": [
      "finish loading model\n",
      "torch_dtype: torch.float32\n",
      "cuda available: True\n",
      "device: cuda\n",
      "---------- finish loading model:/projects/sciences/computing/sheju347/MedicalQA/train/saved_models/fine_tuned_model_entire_UltraMedical_batch_4 -----------\n"
     ]
    }
   ],
   "source": [
    "import os\n",
    "\n",
    "trainer = ModelTrainer()\n",
    "\n",
    "# model_name = \"microsoft/Phi-3-mini-4k-instruct\"\n",
    "# model_name = os.path.abspath(\"../../../projects/sciences/computing/sheju347/MedicalQA/train/saved_models/fine_tuned_model_entire_UltraMedical_batch_4\")\n",
    "model_name = \"/projects/sciences/computing/sheju347/MedicalQA/train/saved_models/fine_tuned_model_entire_UltraMedical_batch_4\"\n",
    "# model_name = \"google/flan-t5-xl\"\n",
    "\n",
    "trainer.load_model(model_name)\n",
    "# trainer.load_model_t5(model_name)\n",
    "# trainer.test_model_MedQA_response()\n",
    "\n"
   ]
  },
  {
   "cell_type": "code",
   "execution_count": null,
   "id": "b7a49ac8-fa36-4c48-963f-75c1ce714629",
   "metadata": {},
   "outputs": [],
   "source": [
    "https://ondemand.otago.ac.nz/home/projects/sciences/computing/sheju347/MedicalQA/train/saved_models/fine_tuned_model_entire_UltraMedical_batch_4"
   ]
  },
  {
   "cell_type": "code",
   "execution_count": 103,
   "id": "5d4af977-be3b-4440-9f91-8b1200395085",
   "metadata": {},
   "outputs": [
    {
     "name": "stdout",
     "output_type": "stream",
     "text": [
      "model: /projects/sciences/computing/sheju347/MedicalQA/train/saved_models/fine_tuned_model_entire_UltraMedical_batch_4\n",
      "shjy: tensor([[32010,   887,   526,  ...,    13, 32007, 32001]], device='cuda:0') torch.Size([1, 1162])\n",
      "shjy2: torch.Size([1, 1571])\n",
      "outputs text: <|user|> You are a medical question answering assistant.\n",
      "\n",
      "The following context may or may not be useful. Use it only if it helps answer the question.\n",
      "INSTRUCTIONS:\n",
      "- If the context directly helps answer the question, use it and cite appropriately\n",
      "- If the context is topically related but not diagnostically relevant, acknowledge it but rely on your medical knowledge\n",
      "- If the context might mislead you toward a less likely diagnosis, explicitly state why you're not following it\n",
      "\n",
      "Context:\n",
      "Traumatic splenic laceration with delayed rupture secondary to coughing in a patient with Von Willebrand disease. We describe the case of a 54-year-old male with Von Willebrand Disease who presented to the Emergency Department (ED) with 2Â weeks of worsening abdominal pain after falling on his left flank while boating. On his initial presentation, he was found to have a Grade II splenic injury that was managed non operatively by the trauma service. Four days later, he returned to the ED when he developed severe abdominal pain after coughing and was found to have active extravasation from the splenic parenchyma with hemoperitoneum on CT angiography and a grossly positive FAST exam. Intraoperatively, he was found to have a Grade V splenic injury and subsequently underwent splenectomy.\n",
      "\n",
      "\n",
      "Development of Bilateral Heterotopic Ossification After Survival of Life Threatening Purpura Fulminans. Heterotopic ossification has been reported in patients who have undergone traumatic amputations, burn injuries, and total hip arthroplasty; however, the incidence of heterotopic ossification following purpura fulminans has only been reported in one case with unilateral involvement. Here we present a bilateral lower extremity case of heterotopic ossification as sequelae of purpura fulminans.Â  A 34-year-old male smoker with a past medical history of stab wounds to the chest and abdomen requiring emergent exploratory laparotomy, diaphragmatic repair, and splenectomy 15 years agoÂ presented to the emergency department with a rapid onset of high fevers, chills and myalgia. He did not receive post-splenectomy prophylactic vaccinations forÂ \n",
      "\n",
      "Ectopic splenic autotransplantation following traumatic injury: A case report. A 41-year-old male patient was admitted to the General Hospital of Guangzhou Military Command due to upper abdominal pain persisting for 12 h. Computed tomography (CT) and positron emission tomography/CT scans revealed multiple soft-tissue shadows in the abdominal cavity, peritoneum and Glisson's capsule, but the metabolic activity was at normal levels. A small area of low-density shadows near the tail of the pancreas and multiple shadows of enlarged lymph nodes were identified around the porta hepatis and the pancreas, with a mildly increased metabolic activity. On the basis of the CT images the patient was diagnosed with pancreatitis. Radionuclide imaging showed the absence of the spleen from its normal position (following splenectomy), but abnormal phagocytosis of multiple red blood cells was observed in the abdomen, which was diagnosed as ectopic splenic autotransplantation (ESAT). The patient subsequently recovered well following symptomatic treatment. ESAT in trauma patients requires urgent surgery in order to remove the damaged spleen and artificially cultivate partial splenic tissue.\n",
      "\n",
      "\n",
      "\n",
      "\n",
      "Question:\n",
      "A 34-year-old woman is assaulted and suffers a number of stab wounds to her abdomen. Bystanders call paramedics and she is subsequently taken to the nearest hospital. On arrival to the emergency department, her vitals are T: 36 deg C, HR: 110 bpm, BP: 100/60, RR: 12, SaO2: 99%. A FAST and abdominal CT are promptly obtained which are demonstrated in Figures A and B, respectively. Her chart demonstrates no other medical problems and vaccinations/boosters up to date. The patient is diagnosed with a Grade V splenic laceration and is immediately brought to the OR for emergent splenectomy. The splenectomy is successfully performed with removal of the damaged spleen (Figure C). Following the operation, the patient should receive which of the following vaccines: (I) H. influenzae (II) Tetanus (III) N. meningitidis (IV) S. pneumoniae (V) Hepatitis B\n",
      "\n",
      "[A] : I, II\n",
      "[B] : I, III, IV\n",
      "[C] : I, V\n",
      "[D] : III, IV\n",
      "<|end|><|assistant|> After a splenectomy, patients are at increased risk for infections due to the spleen's role in filtering bacteria and mounting an immune response, particularly against encapsulated organisms. The recommended vaccines for asplenic or hyposplenic patients include those for Streptococcus pneumoniae, Haemophilus influenzae type b, and Neisseria meningitidis.\n",
      "\n",
      "- H. influenzae (I) vaccine is recommended because it protects against Haemophilus influenzae type b, which can cause severe infections in individuals without a spleen.\n",
      "- Tetanus (II) vaccine is generally recommended for all individuals, but it is not specifically indicated for asplenic patients unless they are at risk for tetanus or have not received a booster in the last 10 years.\n",
      "- N. meningitidis (III) vaccine is recommended because it protects against Neisseria meningitidis, another encapsulated bacterium that can cause severe infections in asplenic individuals.\n",
      "- S. pneumoniae (IV) vaccine is also recommended because it protects against Streptococcus pneumoniae, which is a common cause of pneumonia, meningitis, and bacteremia in asplenic patients.\n",
      "- Hepatitis B (V) vaccine is recommended for all individuals, but it is not specifically indicated for asplenic patients unless they are at risk for hepatitis B or have not received a booster in the last 10 years.\n",
      "\n",
      "Based on the information provided, the patient should receive vaccines for H. influenzae, N. meningitis, and S. pneumoniae.\n",
      "\n",
      "So, the answer is [B].<|end|>\n",
      "answer: B\n",
      "question 1/1 answer:B correct_answer:B True\n",
      "Total questions: 1, correct: 1, accuracy: 1.0\n",
      "elapse_time: 9.611456394195557\n"
     ]
    }
   ],
   "source": [
    "\n",
    "test = TestPerformance(trainer.model, trainer.tokenizer, trainer.device, is_encoder_decoder = False)\n",
    "# test.test_accuracy(DatasetPath.MMLU, subset_name = MMLU_Subset.College_medicine, is_ensemble = False)\n",
    "data_range = range(205, 206) # None #range(34, 35)\n",
    "test.test_accuracy(DatasetPath.MedQA, subset_name = None, is_ensemble = False, use_RAG = True, data_range = data_range)\n",
    "# test.test_MedQA_response(use_RAG = True)\n",
    "# print(test.get_RAG_context(\"A junior orthopaedic surgery resident is completing a carpal tunnel repair with the department chairman as the attending physician. During the case, the resident inadvertently cuts a flexor tendon. The tendon is repaired without complication. The attending tells the resident that the patient will do fine, and there is no need to report this minor complication that will not harm the patient, as he does not want to make the patient worry unnecessarily. He tells the resident to leave this complication out of the operative report. Which of the following is the correct next action for the resident to take?\"))\n",
    "# test."
   ]
  },
  {
   "cell_type": "code",
   "execution_count": 117,
   "id": "0e054d1f-0791-43e9-bb2c-1ecfca7fd659",
   "metadata": {},
   "outputs": [
    {
     "name": "stdout",
     "output_type": "stream",
     "text": [
      "model output: <|user|> You are a medical question answering assistant.\n",
      "\n",
      "The following context may or may not be useful. Use it only if it helps answer the question.\n",
      "INSTRUCTIONS:\n",
      "- If the context directly helps answer the question, use it and cite appropriately\n",
      "- If the context is topically related but not diagnostically relevant, acknowledge it but rely on your medical knowledge\n",
      "- If the context might mislead you toward a less likely diagnosis, explicitly state why you're not following it\n",
      "\n",
      "Context:\n",
      "Traumatic splenic laceration with delayed rupture secondary to coughing in a patient with Von Willebrand disease. We describe the case of a 54-year-old male with Von Willebrand Disease who presented to the Emergency Department (ED) with 2Â weeks of worsening abdominal pain after falling on his left flank while boating. On his initial presentation, he was found to have a Grade II splenic injury that was managed non operatively by the trauma service. Four days later, he returned to the ED when he developed severe abdominal pain after coughing and was found to have active extravasation from the splenic parenchyma with hemoperitoneum on CT angiography and a grossly positive FAST exam. Intraoperatively, he was found to have a Grade V splenic injury and subsequently underwent splenectomy.\n",
      "\n",
      "Development of Bilateral Heterotopic Ossification After Survival of Life Threatening Purpura Fulminans. Heterotopic ossification has been reported in patients who have undergone traumatic amputations, burn injuries, and total hip arthroplasty; however, the incidence of heterotopic ossification following purpura fulminans has only been reported in one case with unilateral involvement. Here we present a bilateral lower extremity case of heterotopic ossification as sequelae of purpura fulminans.Â  A 34-year-old male smoker with a past medical history of stab wounds to the chest and abdomen requiring emergent exploratory laparotomy, diaphragmatic repair, and splenectomy 15 years agoÂ presented to the emergency department with a rapid onset of high fevers, chills and myalgia. He did not receive post-splenectomy prophylactic vaccinations forÂ \n",
      "\n",
      "Ectopic splenic autotransplantation following traumatic injury: A case report. A 41-year-old male patient was admitted to the General Hospital of Guangzhou Military Command due to upper abdominal pain persisting for 12 h. Computed tomography (CT) and positron emission tomography/CT scans revealed multiple soft-tissue shadows in the abdominal cavity, peritoneum and Glisson's capsule, but the metabolic activity was at normal levels. A small area of low-density shadows near the tail of the pancreas and multiple shadows of enlarged lymph nodes were identified around the porta hepatis and the pancreas, with a mildly increased metabolic activity. On the basis of the CT images the patient was diagnosed with pancreatitis. Radionuclide imaging showed the absence of the spleen from its normal position (following splenectomy), but abnormal phagocytosis of multiple red blood cells was observed in the abdomen, which was diagnosed as ectopic splenic autotransplantation (ESAT). The patient subsequently recovered well following symptomatic treatment. ESAT in trauma patients requires urgent surgery in order to remove the damaged spleen and artificially cultivate partial splenic tissue.\n",
      "\n",
      "Question:\n",
      "A 34-year-old woman is assaulted and suffers a number of stab wounds to her abdomen. Bystanders call paramedics and she is subsequently taken to the nearest hospital. On arrival to the emergency department, her vitals are T: 36 deg C, HR: 110 bpm, BP: 100/60, RR: 12, SaO2: 99%. A FAST and abdominal CT are promptly obtained which are demonstrated in Figures A and B, respectively. Her chart demonstrates no other medical problems and vaccinations/boosters up to date. The patient is diagnosed with a Grade V splenic laceration and is immediately brought to the OR for emergent splenectomy. The splenectomy is successfully performed with removal of the damaged spleen (Figure C). Following the operation, the patient should receive which of the following vaccines: (I) H. influenzae (II) Tetanus (III) N. meningitidis (IV) S. pneumoniae (V) Hepatitis B\n",
      "\n",
      "[A] : I, II\n",
      "[B] : I, III, IV\n",
      "[C] : I, V\n",
      "[D] : III, IV\n",
      "<|end|><|assistant|> Patients who have undergone splenectomy are at increased risk for infections due to the spleen's role in filtering bacteria and mounting an immune response, particularly against encapsulated organisms. Therefore, it is important to provide vaccinations to reduce the risk of post-splenectomy infections.\n",
      "\n",
      "The recommended vaccines for asplenic or hyposplenic patients include:\n",
      "\n",
      "(I) H. influenzae type b (Hib) vaccine: This vaccine is important because Haemophilus influenzae type b can cause severe infections in individuals without a functioning spleen.\n",
      "\n",
      "(III) N. meningitidis (meningococcal) vaccine: This vaccine is recommended because Neisseria meningitidis can cause meningitis and sepsis, which can be particularly severe in asplenic individuals.\n",
      "\n",
      "(IV) S. pneumoniae (pneumococcal) vaccine: This vaccine is crucial because Streptococcus pneumoniae can cause pneumonia, meningitis, and bacteremia, which can be life-threatening in the absence of a spleen.\n",
      "\n",
      "(V) Hepatitis B vaccine: While important for general health, it is not specifically indicated for the prevention of post-splenectomy infections.\n",
      "\n",
      "Tetanus (II) is not specifically indicated for post-splenectomy vaccination unless there is a specific risk factor or wound that would warrant it.\n",
      "\n",
      "Based on the above, the patient should receive vaccines for H. influenzae, N. meningitidis, and S. pneumoniae.\n",
      "\n",
      "So, the answer is [B].<|end|>\n"
     ]
    }
   ],
   "source": [
    "prompt_RAG = '''\n",
    "You are a medical question answering assistant.\n",
    "\n",
    "The following context may or may not be useful. Use it only if it helps answer the question.\n",
    "INSTRUCTIONS:\n",
    "- If the context directly helps answer the question, use it and cite appropriately\n",
    "- If the context is topically related but not diagnostically relevant, acknowledge it but rely on your medical knowledge\n",
    "- If the context might mislead you toward a less likely diagnosis, explicitly state why you're not following it\n",
    "\n",
    "Context:\n",
    "{context}\n",
    "\n",
    "Question:\n",
    "{question}\n",
    "\n",
    "{choices}\n",
    "'''\n",
    "\n",
    "def format_choices(choices):\n",
    "    a = zip(list(choices.keys()), choices.values())\n",
    "    final_answers = []\n",
    "    for x,y in a:\n",
    "        final_answers.append(f'[{x}] : {y}')\n",
    "    return \"\\n\".join(final_answers)\n",
    "    \n",
    "\n",
    "data = {\"question\": \"A 34-year-old woman is assaulted and suffers a number of stab wounds to her abdomen. Bystanders call paramedics and she is subsequently taken to the nearest hospital. On arrival to the emergency department, her vitals are T: 36 deg C, HR: 110 bpm, BP: 100/60, RR: 12, SaO2: 99%. A FAST and abdominal CT are promptly obtained which are demonstrated in Figures A and B, respectively. Her chart demonstrates no other medical problems and vaccinations/boosters up to date. The patient is diagnosed with a Grade V splenic laceration and is immediately brought to the OR for emergent splenectomy. The splenectomy is successfully performed with removal of the damaged spleen (Figure C). Following the operation, the patient should receive which of the following vaccines: (I) H. influenzae (II) Tetanus (III) N. meningitidis (IV) S. pneumoniae (V) Hepatitis B\",\n",
    "        \"choices\": {\n",
    "        \"A\": \"I, II\",\n",
    "        \"B\": \"I, III, IV\",\n",
    "        \"C\": \"I, V\",\n",
    "        \"D\": \"III, IV\"\n",
    "        },\n",
    "        \"correct\": \"B\",\n",
    "        \"source\": \"Test data index 0 (GBaker/MedQA-USMLE-4-options)\"\n",
    "}\n",
    "\n",
    "\n",
    "prompt = prompt_RAG\n",
    "rag_1 = \"Traumatic splenic laceration with delayed rupture secondary to coughing in a patient with Von Willebrand disease. We describe the case of a 54-year-old male with Von Willebrand Disease who presented to the Emergency Department (ED) with 2Â weeks of worsening abdominal pain after falling on his left flank while boating. On his initial presentation, he was found to have a Grade II splenic injury that was managed non operatively by the trauma service. Four days later, he returned to the ED when he developed severe abdominal pain after coughing and was found to have active extravasation from the splenic parenchyma with hemoperitoneum on CT angiography and a grossly positive FAST exam. Intraoperatively, he was found to have a Grade V splenic injury and subsequently underwent splenectomy.\"\n",
    "rag_2 = \"Development of Bilateral Heterotopic Ossification After Survival of Life Threatening Purpura Fulminans. Heterotopic ossification has been reported in patients who have undergone traumatic amputations, burn injuries, and total hip arthroplasty; however, the incidence of heterotopic ossification following purpura fulminans has only been reported in one case with unilateral involvement. Here we present a bilateral lower extremity case of heterotopic ossification as sequelae of purpura fulminans.Â  A 34-year-old male smoker with a past medical history of stab wounds to the chest and abdomen requiring emergent exploratory laparotomy, diaphragmatic repair, and splenectomy 15 years agoÂ presented to the emergency department with a rapid onset of high fevers, chills and myalgia. He did not receive post-splenectomy prophylactic vaccinations forÂ \"\n",
    "rag_3 = \"Ectopic splenic autotransplantation following traumatic injury: A case report. A 41-year-old male patient was admitted to the General Hospital of Guangzhou Military Command due to upper abdominal pain persisting for 12 h. Computed tomography (CT) and positron emission tomography/CT scans revealed multiple soft-tissue shadows in the abdominal cavity, peritoneum and Glisson's capsule, but the metabolic activity was at normal levels. A small area of low-density shadows near the tail of the pancreas and multiple shadows of enlarged lymph nodes were identified around the porta hepatis and the pancreas, with a mildly increased metabolic activity. On the basis of the CT images the patient was diagnosed with pancreatitis. Radionuclide imaging showed the absence of the spleen from its normal position (following splenectomy), but abnormal phagocytosis of multiple red blood cells was observed in the abdomen, which was diagnosed as ectopic splenic autotransplantation (ESAT). The patient subsequently recovered well following symptomatic treatment. ESAT in trauma patients requires urgent surgery in order to remove the damaged spleen and artificially cultivate partial splenic tissue.\"\n",
    "\n",
    "context = rag_1 + '\\n\\n' + rag_2 + '\\n\\n' + rag_3\n",
    "#self.get_RAG_context(example[\"question\"])\n",
    "question = data[\"question\"]\n",
    "choices = data[\"choices\"]\n",
    "answer_key = data[\"correct\"]\n",
    "formated_choices = format_choices(choices)\n",
    "model_prompt = prompt.format(context = context, question = question, choices = formated_choices)\n",
    "\n",
    "\n",
    "messages = [{\"role\": \"user\", \"content\": f\"{model_prompt}\"}]\n",
    "# add_generation_prompt indicates the start of a response\n",
    "inputs = trainer.tokenizer.apply_chat_template(messages, add_generation_prompt = True, return_tensors = \"pt\").to(trainer.device)\n",
    "# print(\"inputs:\", tokenizer.apply_chat_template(messages, add_generation_prompt = True, tokenize = False))\n",
    "generate_kwargs = {\n",
    "    \"max_new_tokens\": 1024,\n",
    "    \"do_sample\": True,\n",
    "    \"temperature\": 0.00001,\n",
    "}\n",
    "outputs = trainer.model.generate(inputs, **generate_kwargs)\n",
    "\n",
    "text = trainer.tokenizer.batch_decode(outputs)[0]\n",
    "# output_text = run_inference(model_prompt, self.model, self.tokenizer, max_new_tokens = 1024, temperature = self.temperature)\n",
    "# output_text = output_text.split(\"<|assistant|>\")[-1]\n",
    "print(\"model output:\", text)\n"
   ]
  },
  {
   "cell_type": "code",
   "execution_count": null,
   "id": "dedd5d56-7b6d-473a-bd23-b9525d6fbda4",
   "metadata": {},
   "outputs": [],
   "source": []
  }
 ],
 "metadata": {
  "kernelspec": {
   "display_name": "Python (LLM)",
   "language": "python",
   "name": "llm"
  },
  "language_info": {
   "codemirror_mode": {
    "name": "ipython",
    "version": 3
   },
   "file_extension": ".py",
   "mimetype": "text/x-python",
   "name": "python",
   "nbconvert_exporter": "python",
   "pygments_lexer": "ipython3",
   "version": "3.9.21"
  }
 },
 "nbformat": 4,
 "nbformat_minor": 5
}

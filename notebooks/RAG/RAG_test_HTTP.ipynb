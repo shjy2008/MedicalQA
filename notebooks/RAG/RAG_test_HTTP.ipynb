{
 "cells": [
  {
   "cell_type": "code",
   "execution_count": 1,
   "id": "7e959ea8-d1b3-48d8-84c7-9bf2b8282556",
   "metadata": {},
   "outputs": [
    {
     "name": "stdout",
     "output_type": "stream",
     "text": [
      "The Resident-Run Minor Surgery Clinic: A Pilot Study to Safely Increase Operative Autonomy. General surgery training has evolved to align with changes in work hour restrictions, supervision regulations, and reimbursement practices. This has culminated in a lack of operative autonomy, leaving residents feeling inadequately prepared to perform surgery independently when beginning fellowship or practice. A resident-run minor surgery clinic increases junior resident autonomy, but its effects on patient outcomes have not been formally established. This pilot study evaluated the safety of implementing a resident-run minor surgery clinic within a university-based general surgery training program. Single institution case-control pilot study of a resident-run minor surgery clinic from 9/2014 to 6/2015. Rotating third-year residents staffed the clinic once weekly. Residents performed operations independently in their own procedure room. A supervising attending surgeon staffed each case prior to residents performing the procedure and viewed the surgical site before wound closure. Postprocedure patient complications and admissions to the hospital because of a complication were analyzed and compared with an attending control cohort. Massachusetts General Hospital General in Boston, MA; an academic tertiary care general surgery residency program. Ten third-year general surgery residents. Overall, 341 patients underwent a total of 399 procedures (110 in the resident clinic vs. 289 in the attending clinic). Minor surgeries included soft tissue mass excision (n = 275), abscess incision and drainage (n = 66), skin lesion excision (n = 37), skin tag removal (n = 15), and lymph node excision (n = 6). There was no significant difference in the overall rate of patients developing a postprocedure complication within 30 days (3.6% resident vs. 2.8% attending; p = 0.65); which persisted on multivariate analysis. Similar findings were observed for the rate of hospital admission resulting from a complication. Resident evaluations overwhelmingly supported the rotation, citing increased operative autonomy as the greatest strength. Implementation of a resident-run minor surgery clinic is a safe and effective method to increase trainee operative autonomy. The rotation is well suited for mid-level residents, as it provides an opportunity for realistic self-evaluation and focused learning that may enhance their operative experience during senior level rotations.\n",
      "\n",
      "\n",
      "Ghost surgery: the ethical and legal implications of who does the operation. Case 1: A patient who is rehospitalized for complications after shoulder arthroscopy discovers that his surgeon's partner performed the operation. The orthopaedists contend that they practice as a \"team,\" deciding who does the specific case just prior to the operation(1). Case 2: Arthroscopic partial meniscectomy is performed by a resident. The attending orthopaedist scrubs briefly and then leaves to perform a simultaneous procedure in another room. The patient has a postoperative complication(2). Case 3: Carpal tunnel release is performed by a resident, under the supervision of an attending orthopaedist who has been present for the entire case and who has introduced the resident as his assistant in the informed-consent process. The median nerve is injured by the resident(3).\n",
      "\n",
      "\n",
      "Attending Surgeon Influences Operative Time More Than Resident Level in Laparoscopic Cholecystectomy. Prior studies on laparoscopic cholecystectomy (LC) have concluded that resident involvement lengthens operative time without impacting outcomes. However, the lack of effect of resident level on operative duration has not been explained. We hypothesized that attending-specific influence on average operative time for LC is more pronounced than resident post-graduate year level. We retrospectively analyzed all LC cases performed on patients 18 y and older between November 2018 and March 2020 at 2 academic medical center-affiliated hospitals. Regression models were used to compare operative times, conversion to open rates, and complication rates by attending surgeon and resident level. Nine hundred twenty-five LCs were performed over the study period, 862 (93.1%) with resident participation. Of the 44.5% variation in operative time was explained by differences in attending surgeon, as compared to 11.0% attributable to differences in resident level (P &lt; 0.0001). This effect persisted after adjusting for patient and disease factors (33.0% versus 7.1%, P &lt; 0.0001). Neither attending surgeon (PÂ =Â 0.80), nor the level of the involved resident (PÂ =Â 0.94) demonstrated a significant effect on the conversion-to-open rate (4.9%). Similarly, neither the attending surgeon (PÂ =Â 0.33), nor resident level (PÂ =Â 0.81) significantly affected the complication rate (8.58%). Operative time for LC is primarily determined by patient- and disease-specific factors; resident level has no effect on conversion to open or complication rates. Attending influence on operative time was more pronounced than resident level influence. These findings suggest attending surgeon-related factors are more important than resident experience in determining operative duration for LC.\n",
      "\n",
      "\n",
      "\n",
      "Time used:  1.4641175270080566\n"
     ]
    }
   ],
   "source": [
    "import requests\n",
    "import time\n",
    "\n",
    "ip = \"localhost\"\n",
    "\n",
    "def search(query):\n",
    "    response = requests.get(f\"http://{ip}:8080/search\", params = {\"q\": query})\n",
    "    if response.status_code == 200:\n",
    "        return response.text\n",
    "    else:\n",
    "        return f\"Error: {response.status_code} - {response.text}\"\n",
    "\n",
    "query = \"A junior orthopaedic surgery resident is completing a carpal tunnel repair with the department chairman as the attending physician. During the case, the resident inadvertently cuts a flexor tendon. The tendon is repaired without complication. The attending tells the resident that the patient will do fine, and there is no need to report this minor complication that will not harm the patient, as he does not want to make the patient worry unnecessarily. He tells the resident to leave this complication out of the operative report. Which of the following is the correct next action for the resident to take?\";\n",
    "\n",
    "# query = \"A 67-year-old man with transitional cell carcinoma of the bladder comes to the physician because of a 2-day history of ringing sensation in his ear. He received this first course of neoadjuvant chemotherapy 1 week ago. Pure tone audiometry shows a sensorineural hearing loss of 45 dB. The expected beneficial effect of the drug that caused this patient's symptoms is most likely due to which of the following actions?\"\n",
    "\n",
    "start = time.time()\n",
    "\n",
    "ret = search(query)\n",
    "print(ret)\n",
    "\n",
    "end = time.time()\n",
    "print(\"Time used: \", end - start)"
   ]
  },
  {
   "cell_type": "code",
   "execution_count": null,
   "id": "ea26dae6-4ec9-4a6a-af1e-be6f3e672d44",
   "metadata": {},
   "outputs": [],
   "source": []
  }
 ],
 "metadata": {
  "kernelspec": {
   "display_name": "Python (LLM)",
   "language": "python",
   "name": "llm"
  },
  "language_info": {
   "codemirror_mode": {
    "name": "ipython",
    "version": 3
   },
   "file_extension": ".py",
   "mimetype": "text/x-python",
   "name": "python",
   "nbconvert_exporter": "python",
   "pygments_lexer": "ipython3",
   "version": "3.9.21"
  }
 },
 "nbformat": 4,
 "nbformat_minor": 5
}

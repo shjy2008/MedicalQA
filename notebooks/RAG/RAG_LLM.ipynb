{
 "cells": [
  {
   "cell_type": "code",
   "execution_count": 2,
   "id": "75f62082-1056-45a3-aec9-ca0b0c0ec52f",
   "metadata": {},
   "outputs": [
    {
     "name": "stderr",
     "output_type": "stream",
     "text": [
      "/home/sheju347/.local/lib/python3.9/site-packages/tqdm/auto.py:21: TqdmWarning: IProgress not found. Please update jupyter and ipywidgets. See https://ipywidgets.readthedocs.io/en/stable/user_install.html\n",
      "  from .autonotebook import tqdm as notebook_tqdm\n"
     ]
    }
   ],
   "source": [
    "import sys\n",
    "import os\n",
    "sys.path.append(os.path.abspath(\"..\"))\n",
    "\n",
    "from model_trainer import ModelTrainer\n",
    "from test_performance import TestPerformance, DatasetPath, MMLU_Subset"
   ]
  },
  {
   "cell_type": "code",
   "execution_count": 3,
   "id": "c959a4bf-a25c-4d0c-a30e-c187e4bd5a84",
   "metadata": {},
   "outputs": [
    {
     "name": "stdout",
     "output_type": "stream",
     "text": [
      "---------- start checking GPU -----------\n",
      "GPU: NVIDIA H100 NVL\n",
      "torch.cuda.is_bf16_supported():  True\n",
      "---------- finish checking GPU -----------\n",
      "---------- start loading model:/projects/sciences/computing/sheju347/MedicalQA/train/saved_models/fine_tuned_model_entire_UltraMedical_batch_4 -----------\n",
      "finish loading tokenizer\n"
     ]
    },
    {
     "name": "stderr",
     "output_type": "stream",
     "text": [
      "Loading checkpoint shards: 100%|██████████| 2/2 [00:04<00:00,  2.01s/it]\n"
     ]
    },
    {
     "name": "stdout",
     "output_type": "stream",
     "text": [
      "finish loading model\n",
      "torch_dtype: torch.float32\n",
      "cuda available: True\n",
      "device: cuda\n",
      "---------- finish loading model:/projects/sciences/computing/sheju347/MedicalQA/train/saved_models/fine_tuned_model_entire_UltraMedical_batch_4 -----------\n"
     ]
    }
   ],
   "source": [
    "import os\n",
    "\n",
    "trainer = ModelTrainer()\n",
    "\n",
    "# model_name = \"microsoft/Phi-3-mini-4k-instruct\"\n",
    "# model_name = os.path.abspath(\"../../../projects/sciences/computing/sheju347/MedicalQA/train/saved_models/fine_tuned_model_entire_UltraMedical_batch_4\")\n",
    "model_name = \"/projects/sciences/computing/sheju347/MedicalQA/train/saved_models/fine_tuned_model_entire_UltraMedical_batch_4\"\n",
    "# model_name = \"google/flan-t5-xl\"\n",
    "\n",
    "trainer.load_model(model_name)"
   ]
  },
  {
   "cell_type": "code",
   "execution_count": 4,
   "id": "8d858164-c524-4308-b17f-3970ffce7b56",
   "metadata": {},
   "outputs": [
    {
     "name": "stderr",
     "output_type": "stream",
     "text": [
      "The attention mask is not set and cannot be inferred from input because pad token is same as eos token. As a consequence, you may observe unexpected behavior. Please pass your input's `attention_mask` to obtain reliable results.\n"
     ]
    },
    {
     "name": "stdout",
     "output_type": "stream",
     "text": [
      "model output: <|user|> Question: A 66-year-old man is brought to the emergency room by his wife due to abdominal distension and persistent somnolence for the past 2 weeks. The patient’s wife says that he has been sleeping much more than usual for the past 5 days. His bowel and bladder habit have not changed. His past medical history is significant for alcoholic liver cirrhosis. His vital signs include: pulse 76/min, respiratory rate 15/min, temperature 38.0°C (100.4°F) and blood pressure 122/75 mm Hg. On physical examination, the patient is altered and not responsive to commands. Oriented x 0. The abdomen is significantly distended. Shifting dullness is present and a positive fluid wave can be elicited. Hyperreflexia and asterixis are noted. Laboratory findings are significant for the following:\n",
      "Laboratory test\n",
      "Sodium 140 mEq/L\n",
      "Potassium 3.5 mEq/L\n",
      "Chloride 97 mEq/L\n",
      "Glucose 90 mg/dL\n",
      "Ammonia 100 µg/dL (ref: 19-60 µg/dL)\n",
      "Arterial blood gas\n",
      "pH 7.4\n",
      "pCO2 40 mm Hg\n",
      "pO2 90 mm Hg\n",
      "HCO3 26 mEq/L\n",
      "An abdominal ultrasound shows surface nodularity compatible with cirrhosis but no other changes aside from ascites. An upper GI endoscopy is performed which shows gastric varices with no signs of active bleeding. An MRI of the brain is insignificant. What is the most likely precipitating factor that led to this patient’s condition?\n",
      " \n",
      "\n",
      " Context A: [Central pontine myelinolysis--pathogenesis and review of the literature]. A 77-year-old, nonalcoholic man was admitted to the Omiya Red Cross Hospital with the complaint of fever and delirium state of two days' duration. Two months prior to admission he had had cough and sputum. Chest X-ray revealed honey comb lungs. Cultures of sputum revealed mycobacterium tuberculosis after eight weeks incubation. He had no liver disease in his past history. The patient appeared cachetic. His vital signs were as follows; temperature 38 degrees C, blood pressure 132/68 mmHg, with a pulse rate of 84/min. He was delirium and excited. Findings of the cranial, motor and sensory nerve examination were normal. Initial laboratory studies showed a serum sodium value of 133 mEq/l, potassium 4.5 mEq/l, chloride 98 mEq/l; a serum GOT value of 51 units, GPT 36 units; a total protein content of 7.8 g/dl and ESR rate of 87 mm/hr. Six days after admission, the patients' consciousness level began to stupor and nuchal rigidity was appeared. Spinal fluid examination revealed opening pressure 270 mm H2O, cell counts 720 (N 712, L 8)/cumm, sugar 57 mg/dl and protein 170 mg/dl. Spinal fluid cultures were positive in mycobacterium tuberculosis after eight weeks incubation. Laboratory studies showed a serum sodium value of 114 mEq/l, potassium 4.4 mEq/l, chloride 86 mEq/l, a serum osmorality (SeOs) 225 mOsm/l and urine osmorality (UOs) 958 mOsm/l.(ABSTRACT TRUNCATED AT 250 WORDS) \n",
      "\n",
      " Context B: Acute kidney injury in patients with cirrhosis: perils and promise. A 62-year-old man with cirrhosis secondary to hepatitis C and chronic alcohol abuse was admitted to the intensive care unit with hematemesis and mental status changes. Physical examination showed ascites and stigmata of chronic liver disease. Blood pressure was noted as 87/42 mm Hg and laboratory studies showed a serum creatinine level of 0.8 mg/dL, an estimated glomerular filtration rate of 84 mL/min/1.73 m(2) calculated using the Modification of Diet in Renal Disease Study equation, a serum sodium level of 123 mEq/L, a total serum bilirubin level of 4.3 mg/dL, and an international normalization ratio of 1.6. The patient was resuscitated with packed red blood cells and fresh-frozen plasma and bleeding was controlled. However, on the third day of admission, creatinine level increased to 1.5 mg/dL. Examination of urine sediment showed 1 to 5 bilirubin-stained granular casts per high-powered field and a few renal tubular epithelial cells. The urine sodium level was 21 mEq/L and the fractional excretion of sodium was 0.43%. \n",
      "\n",
      " Which context is more useful to answer the question? \n",
      " [A] A \n",
      " [B] B<|end|><|assistant|> The question asks for the most likely precipitating factor that led to the patient's condition, which is characterized by abdominal distension, persistent somnolence, altered mental status, hyperreflexia, asterixis, and laboratory findings indicative of hepatic encephalopathy (elevated ammonia level). The patient has a history of alcoholic liver cirrhosis.\n",
      "\n",
      "Context A discusses central pontine myelinolysis, which is a neurological condition that can occur due to rapid correction of hyponatremia. The patient in this context had a low serum sodium level that was corrected, leading to neurological symptoms. However, the patient's serum sodium level in Context A is not as low as in the patient described in the question, and there is no mention of rapid correction of sodium levels.\n",
      "\n",
      "Context B describes a patient with cirrhosis who developed acute kidney injury after resuscitation with blood products. The patient's serum sodium level was low, and there was evidence of renal impairment. However, the patient in Context B does not have the same symptoms as the patient in the question, such as hyperreflexia and asterixis, which are indicative of hepatic encephalopathy.\n",
      "\n",
      "The patient in the question has signs and symptoms consistent with hepatic encephalopathy, which is a common complication of liver cirrhosis and can be precipitated by factors such as infection, gastrointestinal bleeding, electrolyte imbalances, and medications. The presence of gastric varices and the fact that the patient was not actively bleeding suggests that hepatic encephalopathy could have been precipitated by a gastrointestinal bleed, which is a known complication of cirrhosis and varices.\n",
      "\n",
      "Between the two contexts, Context A is more relevant to the question because it discusses a condition that can be precipitated by factors related to the patient's presentation, such as electrolyte imbalances. However, it is important to note that the patient in the question does not have central pontine myelinolysis but rather hepatic encephalopathy.\n",
      "\n",
      "So, the answer is [A].<|end|>\n"
     ]
    }
   ],
   "source": [
    "# prompt_RAG = '''\n",
    "# You are a medical question answering assistant.\n",
    "\n",
    "# The following context may or may not be useful. Use it only if it helps answer the question.\n",
    "# INSTRUCTIONS:\n",
    "# - If the context directly helps answer the question, use it and cite appropriately\n",
    "# - If the context is topically related but not diagnostically relevant, acknowledge it but rely on your medical knowledge\n",
    "# - If the context might mislead you toward a less likely diagnosis, explicitly state why you're not following it\n",
    "\n",
    "# Context:\n",
    "# {context}\n",
    "\n",
    "# Question:\n",
    "# {question}\n",
    "\n",
    "# {choices}\n",
    "# '''\n",
    "\n",
    "# prompt = prompt_RAG\n",
    "\n",
    "# question_71 = \"\"\"A 66-year-old man is brought to the emergency room by his wife due to abdominal distension and persistent somnolence for the past 2 weeks. The patient’s wife says that he has been sleeping much more than usual for the past 5 days. His bowel and bladder habit have not changed. His past medical history is significant for alcoholic liver cirrhosis. His vital signs include: pulse 76/min, respiratory rate 15/min, temperature 38.0°C (100.4°F) and blood pressure 122/75 mm Hg. On physical examination, the patient is altered and not responsive to commands. Oriented x 0. The abdomen is significantly distended. Shifting dullness is present and a positive fluid wave can be elicited. Hyperreflexia and asterixis are noted. Laboratory findings are significant for the following:\n",
    "# Laboratory test\n",
    "# Sodium 140 mEq/L\n",
    "# Potassium 3.5 mEq/L\n",
    "# Chloride 97 mEq/L\n",
    "# Glucose 90 mg/dL\n",
    "# Ammonia 100 µg/dL (ref: 19-60 µg/dL)\n",
    "# Arterial blood gas\n",
    "# pH 7.4\n",
    "# pCO2 40 mm Hg\n",
    "# pO2 90 mm Hg\n",
    "# HCO3 26 mEq/L\n",
    "# An abdominal ultrasound shows surface nodularity compatible with cirrhosis but no other changes aside from ascites. An upper GI endoscopy is performed which shows gastric varices with no signs of active bleeding. An MRI of the brain is insignificant. What is the most likely precipitating factor that led to this patient’s condition?\n",
    "# \"\"\"\n",
    "# rag_71_1 = \"[Central pontine myelinolysis--pathogenesis and review of the literature]. A 77-year-old, nonalcoholic man was admitted to the Omiya Red Cross Hospital with the complaint of fever and delirium state of two days' duration. Two months prior to admission he had had cough and sputum. Chest X-ray revealed honey comb lungs. Cultures of sputum revealed mycobacterium tuberculosis after eight weeks incubation. He had no liver disease in his past history. The patient appeared cachetic. His vital signs were as follows; temperature 38 degrees C, blood pressure 132/68 mmHg, with a pulse rate of 84/min. He was delirium and excited. Findings of the cranial, motor and sensory nerve examination were normal. Initial laboratory studies showed a serum sodium value of 133 mEq/l, potassium 4.5 mEq/l, chloride 98 mEq/l; a serum GOT value of 51 units, GPT 36 units; a total protein content of 7.8 g/dl and ESR rate of 87 mm/hr. Six days after admission, the patients' consciousness level began to stupor and nuchal rigidity was appeared. Spinal fluid examination revealed opening pressure 270 mm H2O, cell counts 720 (N 712, L 8)/cumm, sugar 57 mg/dl and protein 170 mg/dl. Spinal fluid cultures were positive in mycobacterium tuberculosis after eight weeks incubation. Laboratory studies showed a serum sodium value of 114 mEq/l, potassium 4.4 mEq/l, chloride 86 mEq/l, a serum osmorality (SeOs) 225 mOsm/l and urine osmorality (UOs) 958 mOsm/l.(ABSTRACT TRUNCATED AT 250 WORDS)\"\n",
    "# rag_71_2 = \"Acute kidney injury in patients with cirrhosis: perils and promise. A 62-year-old man with cirrhosis secondary to hepatitis C and chronic alcohol abuse was admitted to the intensive care unit with hematemesis and mental status changes. Physical examination showed ascites and stigmata of chronic liver disease. Blood pressure was noted as 87/42 mm Hg and laboratory studies showed a serum creatinine level of 0.8 mg/dL, an estimated glomerular filtration rate of 84 mL/min/1.73 m(2) calculated using the Modification of Diet in Renal Disease Study equation, a serum sodium level of 123 mEq/L, a total serum bilirubin level of 4.3 mg/dL, and an international normalization ratio of 1.6. The patient was resuscitated with packed red blood cells and fresh-frozen plasma and bleeding was controlled. However, on the third day of admission, creatinine level increased to 1.5 mg/dL. Examination of urine sediment showed 1 to 5 bilirubin-stained granular casts per high-powered field and a few renal tubular epithelial cells. The urine sodium level was 21 mEq/L and the fractional excretion of sodium was 0.43%.\"\n",
    "# rag_71_3 = \"[Status epilepticus induced by prolonged immersion in hot herb bath: report of one case]. A 6-year-old girl with cerebral palsy developed conscious disturbance and generalized convulsion after one-hour hot herb drug bath. Physical examination on admission revealed rectal temperature 41 degrees C, hot skin, respiration 46/min, regular heart beat 98/min, BP 130/60 mmHg, Glascow coma scale 4 (E2M1V1), soft and flat abdomen, no hepatosplenomegaly, no skin rash, no focal neurological sign, increased generalized muscle ton. Laboratory data showed CBC: WBC 20400 cumm (Neutrophils 31%, Lymphocytes 69%), Hb 11.6gm%, ESR 11 mm/hr, arterial blood gas: PH 7.077, PO2 43mmHg, PCO2 57.1mmHg, HCO3- 16 mEq/L, BE-11.5mEq/L, serum sodium 143 mEq./L, potassium 5.2 mEq/L, chloride 101 mEq/L, free calcium ion 3.8mg%, GOT 63IU/L, GPT 263 IU/L, amylase 193 IU/L, alkaline phosphatase 388 IU/L, LDH 1245 IU/L, CPK 677 IU/L, total bilirubin 0.8 mg/dl, direct type 0.1 mg/dl, BUN 18 mg/dl, Glucose 35 mg/dl. Urinalysis revealed proteinuria( ) trace hematuria and pyuria, but no cast. Lumbar puncture is within normal limits. Bacteriology including blood and CSF are normal. Multiple organ failure was noted at that time. Intensive cooling methods were performed including central and peripheral cooling. We used luminal and valium to control the seizure. Condition didn't improve. Afterwards cardiopulmonary arrest developed. Patient expired 8 hours after admission despite of resuscitation. Heat stroke in infancy and childhood is different from that in adulthood. The predisposing factors are high ambient temperature, dehydration, very young baby, sweat gland dysfunction, or ectodermal dysplasia. Definition of heat stroke includes 1) rectal temperature above 41 degrees C, 2) behavioral change, 3) warm skin, wet or dry.(ABSTRACT TRUNCATED AT 250 WORDS)\"\n",
    "\n",
    "\n",
    "# question_74 = \"A 34-year-old woman is assaulted and suffers a number of stab wounds to her abdomen. Bystanders call paramedics and she is subsequently taken to the nearest hospital. On arrival to the emergency department, her vitals are T: 36 deg C, HR: 110 bpm, BP: 100/60, RR: 12, SaO2: 99%. A FAST and abdominal CT are promptly obtained which are demonstrated in Figures A and B, respectively. Her chart demonstrates no other medical problems and vaccinations/boosters up to date. The patient is diagnosed with a Grade V splenic laceration and is immediately brought to the OR for emergent splenectomy. The splenectomy is successfully performed with removal of the damaged spleen (Figure C). Following the operation, the patient should receive which of the following vaccines: (I) H. influenzae (II) Tetanus (III) N. meningitidis (IV) S. pneumoniae (V) Hepatitis B\"\n",
    "# rag_74_1 = \"Traumatic splenic laceration with delayed rupture secondary to coughing in a patient with Von Willebrand disease. We describe the case of a 54-year-old male with Von Willebrand Disease who presented to the Emergency Department (ED) with 2Â weeks of worsening abdominal pain after falling on his left flank while boating. On his initial presentation, he was found to have a Grade II splenic injury that was managed non operatively by the trauma service. Four days later, he returned to the ED when he developed severe abdominal pain after coughing and was found to have active extravasation from the splenic parenchyma with hemoperitoneum on CT angiography and a grossly positive FAST exam. Intraoperatively, he was found to have a Grade V splenic injury and subsequently underwent splenectomy.\"\n",
    "# rag_74_2 = \"Development of Bilateral Heterotopic Ossification After Survival of Life Threatening Purpura Fulminans. Heterotopic ossification has been reported in patients who have undergone traumatic amputations, burn injuries, and total hip arthroplasty; however, the incidence of heterotopic ossification following purpura fulminans has only been reported in one case with unilateral involvement. Here we present a bilateral lower extremity case of heterotopic ossification as sequelae of purpura fulminans.Â  A 34-year-old male smoker with a past medical history of stab wounds to the chest and abdomen requiring emergent exploratory laparotomy, diaphragmatic repair, and splenectomy 15 years agoÂ presented to the emergency department with a rapid onset of high fevers, chills and myalgia. He did not receive post-splenectomy prophylactic vaccinations forÂ \"\n",
    "# rag_74_3 = \"Ectopic splenic autotransplantation following traumatic injury: A case report. A 41-year-old male patient was admitted to the General Hospital of Guangzhou Military Command due to upper abdominal pain persisting for 12 h. Computed tomography (CT) and positron emission tomography/CT scans revealed multiple soft-tissue shadows in the abdominal cavity, peritoneum and Glisson's capsule, but the metabolic activity was at normal levels. A small area of low-density shadows near the tail of the pancreas and multiple shadows of enlarged lymph nodes were identified around the porta hepatis and the pancreas, with a mildly increased metabolic activity. On the basis of the CT images the patient was diagnosed with pancreatitis. Radionuclide imaging showed the absence of the spleen from its normal position (following splenectomy), but abnormal phagocytosis of multiple red blood cells was observed in the abdomen, which was diagnosed as ectopic splenic autotransplantation (ESAT). The patient subsequently recovered well following symptomatic treatment. ESAT in trauma patients requires urgent surgery in order to remove the damaged spleen and artificially cultivate partial splenic tissue.\"\n",
    "\n",
    "# question_206 = \"A 29-year-old woman presents to the clinic after several months of weight loss. She noticed a 6.8 kg (15 lb) unintentional weight loss over the preceding several months. She has not changed her diet or exercise habits. She also reports feuding with her boyfriend over the temperature of their shared apartment, as she always feels warmer than he does. The vital signs include: heart rate 110/min and blood pressure 146/78 mm Hg. The physical exam is notable for warm and slightly moist skin. She also exhibits a fine tremor in her hands when her arms are outstretched. The urine pregnancy test is negative. Which of the following is the best single treatment option for this patient?\"\n",
    "# rag_206_1 = \"Impact of different levels of weight loss on blood pressure in overweight and obese women. This study sought to determine the impact of different levels of weight loss on blood pressure in overweight/obese women. One hundred fifty-nine overweight/obese women (age 48.7 +/- 9.7, weight 101.3 +/- 18.7 kg, BMI 37.3 +/- 6.6 kg/m(2)) completed a six-month clinical weight loss program that included weekly nutrition, behavior, and exercise instruction. Participants consumed a very-low-energy diet (VLED) for 12 weeks. VLED was followed by four weeks of gradual reintroduction to solid foods. At week 16, participants received a diet to maintain weight or slightly reduce weight (&lt;0.5 lb/week) which they followed for the duration of the study. All lab and blood pressure assessments were performed at baseline and six months. Three groups were formed according to the proportion of weight loss after six months; Group 1 had &lt; 10% (n = 19), Group 2 had 10%-20% (n = 64), and Group 3 had &gt;20% (n = 76) weight loss. Differences in systolic blood pressure (mm Hg) were found in dose response fashion for weight loss at six months with 125 +/- 17 (&lt;10%), 119 +/- 13 (10%-20%), and 117 +/- 15 (&gt;20%; p = 0.005). Differences in diastolic blood pressure (mm Hg) were also found in dose response fashion with 81 +/- 9 (&lt;10%), 77 +/- 9 (10%-20%), and 75 +/- 9 (20%; p = 0.003). These data indicate that increasing weight loss beyond 10% of initial body weight may provide added improvements in blood pressure compared to less than 10% weight loss in overweight or obese women.\"\n",
    "# rag_206_2 = \"Use of sibutramine in obese mexican adolescents: a 6-month, randomized, double-blind, placebo-controlled, parallel-group trial. The prevalence of overweight and obesity in children and adolescents is increasing in both the United States and Mexico. The goal of this article was to assess the efficacy and safety of sibutramine in obese Mexican adolescents. This was a 6-month, randomized, double-blind, placebo-controlled, prospective clinical trial of sibutramine QD. Male and female patients aged 14 to 18 years with sex-specific body mass index (BMI) for age and sex &gt;85th percentile were eligible. The primary end points for the trial were the baseline versus end point absolute values for body weight, BMI, and percentage of the initial BMI (%BMI); secondary end points were waist circumference and percentage of the initial waist circumference (%waist). These were measured at days -15, 0, 30, 60, 90, 120, 150, and 180 of the study. Quality of life was assessed at the study start and end using the 36-Item Short-Form Health Survey (SF-36) questionnaire. Blood pressure and heart rate were assessed, and adverse events (AEs) were recorded. Both groups received individually tailored diet and exercise programs. Forty-six patients (age range, 14-18 years) with a BMI &gt;95th percentile for age were included (sibutramine group, n = 23 [14 females, 9 males]; placebo group, n = 23 [12 females, 11 males]). Twenty-one patients in the sibutramine group and 19 patients in the placebo group completed the 6-month trial. Using the intent-to-treat data, weight (mean [SD]) in the sibutramine group changed from 92.5 (14.6) kg to 85.7 (14.4) kg, for a net weight loss of 7.3 kg (95% CI 4.6-9.9), a waist circumference loss of 8.0 cm (95% CI, 4.7-11.3), and a % BMI loss of 9.2% (95% CI, 6.9-11.6). In the placebo group, weight changed from 98.9 (22.7) kg to 94.6 (22.5) kg, a weight loss of 4.3 kg (95% CI, 1.7-6.9), a waist circumference loss of 3.8 cm (95% CI, 0.7-7.0), and a %BMI loss of 5.2% (95% CI, 2.4-7.9) (P &lt; 0.05 for all intragroup comparisons; P &gt; 0.05 for the intergroup comparisons). Mean (SD) scores on the SF-36 scale in the sibutramine group changed from 78.0 (13.3) at baseline to 84.8 (7.4) at study end (P &lt; 0.05); the respective values in the placebo group were 82.8 (10.3) and 87.3 (7.6) (P &lt; 0.05). At base-line, systolic blood pressure (SBP) was 116.7 (5.9) mm Hg in the sibutramine group and 118.3 (7.6) mm Hg in the placebo group; at end point, the respective SBPs were 112.4 (9.6) mm Hg and 112.6 (6.5) mm Hg. At baseline, diastolic blood pressure (DBP) was 78.9 (4.5) mm Hg in the sibutramine group and 79.5 (5.2) mm Hg in the placebo group; at end point, the respective DBPs were 73.5 (6.3) mm Hg and 76.6 (6.2) mm Hg. At baseline, heart rate was 76.3 (6.4) beats/min in the sibutramine group and 81.1 (9.5) beats/min in the placebo group; at end point, the respective findings were 79.8 (8.8) beats/min and 77.6 (8.6) beats/min (P &gt; 0.05 for all preceding intergroup comparisons). One patient in the sibutramine group had increased blood pressure (at month 3) and 3 had increased heart rate (at months 1, 2, and 4); 2 patients receiving placebo had increased blood pressure (month 3) and 2 had increased heart rate (at months 1 and 3). These changes disappeared in 1 week and did not require treatment or trial suspension. Additionally, in the sibutramine group, 3 patients experienced 4 mild AEs: headache, dry mouth, headache with nausea, and headache with weakness and paleness (P &gt; 0.05). In the placebo group, 3 patients experienced 4 mild AEs: 2 cases of headache, as well as 1 case of headache with somnolence and 1 case of headache with dry mouth (P &gt; 0.05). Sibutramine 10 mg QD in addition to diet and exercise was effective and generally well tolerated in this population of obese Mexican adolescents.\"\n",
    "# rag_206_3 = \"Randomized clinical trials of weight reduction in nonhypertensive persons. Since 1987, four randomized controlled clinical trials with 872 nonhypertensive subjects have produced results on weight-reducing interventions, involving decreased caloric intake and/or increased expenditure, for effects on blood pressure (BP). The Hypertension Prevention Trial maintained a 3.5-kg net weight loss through 36 months with intake reduction alone. This program decreased BP by 2.4/1.8 mm Hg (systolic/diastolic) compared to controls, but both weight loss and blood pressure changes were smaller when combined with decreased sodium intake. A Stanford University trial achieved weight losses of 7.4 and 5.1 kg over 12 months with diet and exercise, respectively. Effects on clinic BP were in the range of 1.5 to 3.0 mm Hg and did not differ by intervention approach. The sole trial in children, conducted at University of Michigan, found similar weight loss (about 7 kg) and BP effects from limiting caloric intake over 20 weeks, regardless of inclusion of an exercise program; the latter did, however, result in greater reductions in percent body fat, heart rate, and serum insulin levels. The Primary Prevention of Hypertension trial tested a multifactor intervention including reductions in weight (mean, 2.7 kg), sodium and alcohol intake, and increased physical activity. During a 5-year period, clinic BP was reduced by 2.0/1.9 mm Hg, and the incidence of hypertension, by 52%. It is concluded that weight loss, however achieved, lowers BP in overweight nonhypertensive persons, and probably can contribute substantially to reducing the incidence of hypertension. Whether there are independent effects additive to weight loss from increasing physical activity and reducing sodium intake remains unknown.\"\n",
    "\n",
    "# question_1 = \"\"\"A junior orthopaedic surgery resident is completing a carpal tunnel repair with the department chairman as the attending physician. During the case, the resident inadvertently cuts a flexor tendon. The tendon is repaired without complication. The attending tells the resident that the patient will do fine, and there is no need to report this minor complication that will not harm the patient, as he does not want to make the patient worry unnecessarily. He tells the resident to leave this complication out of the operative report. Which of the following is the correct next action for the resident to take?\"\"\"\n",
    "# rag_1_1 = \"\"\"Moral complexity. An attending orthopaedic surgeon, an orthopaedic resident, and a spine Fellow are scheduled to perform a multilevel spinal decompression and instrumentation from L3 to S1. The case is delayed for several hours and begins in the late afternoon. The attending orthopaedist chooses not to wait for localization radiographs and proceeds with the decompression and four-level pedicle screw instrumentation with posterior-lateral fusion. The Fellow suggests several times during the procedure that radiographs should be obtained, but the attending surgeon is late for a meeting and declines to obtain radiographs. The attending surgeon leaves the resident and Fellow to close the wound after spinal instrumentation and fusion is complete. Radiographs are obtained prior to closure of the wound, and these indicate that the decompression has been performed at the appropriate levels but that the spinal instrumentation and fusion was from L2 to L5 rather than from L3 to S1. The Fellow notifies the attending surgeon, who has already left the hospital. The Fellow offers to remove the L2 screws, place S1 screws, and reconfigure the instrumentation prior to closing. The attending surgeon forbids the Fellow to do this and tells her, \"Everything will be fine.\" He also states that he will discuss the surgery with the patient and family in the morning. As ordered, the Fellow and the resident close the wound.\"\"\"\n",
    "# rag_1_2 = \"\"\"Ghost surgery: the ethical and legal implications of who does the operation. Case 1: A patient who is rehospitalized for complications after shoulder arthroscopy discovers that his surgeon's partner performed the operation. The orthopaedists contend that they practice as a \"team,\" deciding who does the specific case just prior to the operation(1). Case 2: Arthroscopic partial meniscectomy is performed by a resident. The attending orthopaedist scrubs briefly and then leaves to perform a simultaneous procedure in another room. The patient has a postoperative complication(2). Case 3: Carpal tunnel release is performed by a resident, under the supervision of an attending orthopaedist who has been present for the entire case and who has introduced the resident as his assistant in the informed-consent process. The median nerve is injured by the resident(3).\"\"\"\n",
    "# rag_1_3 = \"\"\"When should a surgical resident call an attending surgeon? Many interactions exist between surgical residents and attending surgeons, where residents debate whether they should \"bother\" to call an attending. Several instances have occurred when a senior resident or an attending has not been notified about a patient's status by a junior resident. Because of poor communication, care might be delayed, and surgeons and patients' relatives might not be informed of a change in status. Sometimes the resident's initial management was different than an attending's management. Communication issues were raised at our weekly Morbidity &amp; Mortality conference. We decided to investigate the range of judgment as to when a resident should notify an attending surgeon. The objective was to investigate the range of judgment as to when a surgical resident should notify an attending surgeon. The purpose of this study was to determine the clinical circumstances when surgical residents should contact an attending surgeon directly or leave a message with the service. To investigate communication questions, we developed a survey of 34 clinical circumstances in which a surgical resident could call an attending. Sixteen residents and 16 attendings completed the survey entitled \"Conditions where a surgical resident should consider contacting the surgical attending.\" From the information obtained from this study, a \"must leave message\" and \"must speak to directly\" list were created to guide residents as to when to call an attending. A significant difference existed in the answers provided by residents and attendings. Residents and attendings agreed universally that an attending should be spoken to directly for 2 reasons: cardiopulmonary arrest and death. We created a \"must speak to directly\" list based on the attendings' answers. This list includes 10 clinical circumstances in which a surgical resident should speak directly with an attending regarding patient issues. Likewise, a \"must leave message\" list was created of an additional 8 reasons when a surgical resident must at least call the service of an attending and leave a message. The purpose of our study was to help standardize communication between surgical residents and attendings regarding patient status. With these 2 standardized \"must\" lists, residents will have less uncertainty or hesitation to awaken an attending at night. This finding should improve the communication skills of surgical residents and ultimately improve the quality of patient care.\"\"\"\n",
    "\n",
    "# question_2 = \"\"\"A 67-year-old man with transitional cell carcinoma of the bladder comes to the physician because of a 2-day history of ringing sensation in his ear. He received this first course of neoadjuvant chemotherapy 1 week ago. Pure tone audiometry shows a sensorineural hearing loss of 45 dB. The expected beneficial effect of the drug that caused this patient's symptoms is most likely due to which of the following actions?\"\"\"\n",
    "# rag_2_1 = \"\"\"Reversible sensorineural hearing impairment induced by a carotid body tumor. A case of a 62-year-old Austrian man having a 25-year history of a right-sided carotid body tumor (CBT) is presented. Three months before being transferred to the University of Vienna for tumor resection the patient developed symptoms of tinnitus, progressive ipsilateral hearing loss and dysphagia. Pure-tone audiometry demonstrated a 50 dB right sensorineural hearing loss. A 6 x 6 x 4 cm firm, pulsatile mass was found in the right carotid triangle and extending towards the base of the skull. One week after radical tumor resection all preoperative symptoms disappeared and hearing of the right ear recovered. Review of the available literature showed that hearing loss and tinnitus are unusual symptoms of a CBT. Our findings suggest that routine audiometric evaluations in such cases of CBT patients should be obtained in order to determine the real incidence of audiological disorders.\"\"\"\n",
    "# rag_2_2 = \"\"\"Otitis Media with ANCA-associated Vasculitis: A New Concept and the Associated Criteria. A previously healthy 77-year-old Japanese man presented with a 2-week history of daily fevers peaking at 38Â°C, chills, hearing loss, and almost 10 kg of unintentional weight loss over 2 months. Pure tone audiometry showed mixed conductive-sensorineural hearing loss: right, 63.6 dB, left, 80.0 dB. Blood tests after admission showed a high myeloperoxidase-antineutrophil cytoplasmic antibody (MPO-ANCA) level (&gt;300 U/mL), so we suspected ANCA-related vasculitis. The Japanese Otorhinolaryngology Society has recently been advocating the concept of otitis media with ANCA-associated vasculitis (OMAAV). Our case met the criteria proposed, leading to our diagnosis.\"\"\"\n",
    "# rag_2_3 = \"\"\"Hemophagocytic syndrome in the course of sudden sensorineural hearing loss. This paper aims to comprehensively document a rare case of sensorineural hearing loss accompanied by hemophagocytic syndrome which could be one of the causes of cochlear dysfunction. A 63-year-old man presented with right-sided sudden hearing loss and dizziness and pure-tone audiometry showed a right-sided sensorineural hearing loss. The patient was treated with steroid pulse infusion therapy, ATP and vitamin B(12). Bone marrow specimen revealed hemophagocytic cells and the diagnosis of hemophagocytic syndrome was made. A blood culture grew Capnocytophaga. The prognosis for hearing recovery was poor. Although viral infection and cochlear circulatory dysfunction have been suggested to be associated with sudden sensorineural hearing loss, hemophagocytic syndrome due to bacterial infection which produces high cytokine levels might cause dysfunction of the inner ear.\"\"\"\n",
    "\n",
    "question_71 = \"\"\"A 66-year-old man is brought to the emergency room by his wife due to abdominal distension and persistent somnolence for the past 2 weeks. The patient’s wife says that he has been sleeping much more than usual for the past 5 days. His bowel and bladder habit have not changed. His past medical history is significant for alcoholic liver cirrhosis. His vital signs include: pulse 76/min, respiratory rate 15/min, temperature 38.0°C (100.4°F) and blood pressure 122/75 mm Hg. On physical examination, the patient is altered and not responsive to commands. Oriented x 0. The abdomen is significantly distended. Shifting dullness is present and a positive fluid wave can be elicited. Hyperreflexia and asterixis are noted. Laboratory findings are significant for the following:\n",
    "Laboratory test\n",
    "Sodium 140 mEq/L\n",
    "Potassium 3.5 mEq/L\n",
    "Chloride 97 mEq/L\n",
    "Glucose 90 mg/dL\n",
    "Ammonia 100 µg/dL (ref: 19-60 µg/dL)\n",
    "Arterial blood gas\n",
    "pH 7.4\n",
    "pCO2 40 mm Hg\n",
    "pO2 90 mm Hg\n",
    "HCO3 26 mEq/L\n",
    "An abdominal ultrasound shows surface nodularity compatible with cirrhosis but no other changes aside from ascites. An upper GI endoscopy is performed which shows gastric varices with no signs of active bleeding. An MRI of the brain is insignificant. What is the most likely precipitating factor that led to this patient’s condition?\n",
    "\"\"\"\n",
    "rag_71_1 = \"[Central pontine myelinolysis--pathogenesis and review of the literature]. A 77-year-old, nonalcoholic man was admitted to the Omiya Red Cross Hospital with the complaint of fever and delirium state of two days' duration. Two months prior to admission he had had cough and sputum. Chest X-ray revealed honey comb lungs. Cultures of sputum revealed mycobacterium tuberculosis after eight weeks incubation. He had no liver disease in his past history. The patient appeared cachetic. His vital signs were as follows; temperature 38 degrees C, blood pressure 132/68 mmHg, with a pulse rate of 84/min. He was delirium and excited. Findings of the cranial, motor and sensory nerve examination were normal. Initial laboratory studies showed a serum sodium value of 133 mEq/l, potassium 4.5 mEq/l, chloride 98 mEq/l; a serum GOT value of 51 units, GPT 36 units; a total protein content of 7.8 g/dl and ESR rate of 87 mm/hr. Six days after admission, the patients' consciousness level began to stupor and nuchal rigidity was appeared. Spinal fluid examination revealed opening pressure 270 mm H2O, cell counts 720 (N 712, L 8)/cumm, sugar 57 mg/dl and protein 170 mg/dl. Spinal fluid cultures were positive in mycobacterium tuberculosis after eight weeks incubation. Laboratory studies showed a serum sodium value of 114 mEq/l, potassium 4.4 mEq/l, chloride 86 mEq/l, a serum osmorality (SeOs) 225 mOsm/l and urine osmorality (UOs) 958 mOsm/l.(ABSTRACT TRUNCATED AT 250 WORDS)\"\n",
    "rag_71_2 = \"Acute kidney injury in patients with cirrhosis: perils and promise. A 62-year-old man with cirrhosis secondary to hepatitis C and chronic alcohol abuse was admitted to the intensive care unit with hematemesis and mental status changes. Physical examination showed ascites and stigmata of chronic liver disease. Blood pressure was noted as 87/42 mm Hg and laboratory studies showed a serum creatinine level of 0.8 mg/dL, an estimated glomerular filtration rate of 84 mL/min/1.73 m(2) calculated using the Modification of Diet in Renal Disease Study equation, a serum sodium level of 123 mEq/L, a total serum bilirubin level of 4.3 mg/dL, and an international normalization ratio of 1.6. The patient was resuscitated with packed red blood cells and fresh-frozen plasma and bleeding was controlled. However, on the third day of admission, creatinine level increased to 1.5 mg/dL. Examination of urine sediment showed 1 to 5 bilirubin-stained granular casts per high-powered field and a few renal tubular epithelial cells. The urine sodium level was 21 mEq/L and the fractional excretion of sodium was 0.43%.\"\n",
    "rag_71_3 = \"[Status epilepticus induced by prolonged immersion in hot herb bath: report of one case]. A 6-year-old girl with cerebral palsy developed conscious disturbance and generalized convulsion after one-hour hot herb drug bath. Physical examination on admission revealed rectal temperature 41 degrees C, hot skin, respiration 46/min, regular heart beat 98/min, BP 130/60 mmHg, Glascow coma scale 4 (E2M1V1), soft and flat abdomen, no hepatosplenomegaly, no skin rash, no focal neurological sign, increased generalized muscle ton. Laboratory data showed CBC: WBC 20400 cumm (Neutrophils 31%, Lymphocytes 69%), Hb 11.6gm%, ESR 11 mm/hr, arterial blood gas: PH 7.077, PO2 43mmHg, PCO2 57.1mmHg, HCO3- 16 mEq/L, BE-11.5mEq/L, serum sodium 143 mEq./L, potassium 5.2 mEq/L, chloride 101 mEq/L, free calcium ion 3.8mg%, GOT 63IU/L, GPT 263 IU/L, amylase 193 IU/L, alkaline phosphatase 388 IU/L, LDH 1245 IU/L, CPK 677 IU/L, total bilirubin 0.8 mg/dl, direct type 0.1 mg/dl, BUN 18 mg/dl, Glucose 35 mg/dl. Urinalysis revealed proteinuria( ) trace hematuria and pyuria, but no cast. Lumbar puncture is within normal limits. Bacteriology including blood and CSF are normal. Multiple organ failure was noted at that time. Intensive cooling methods were performed including central and peripheral cooling. We used luminal and valium to control the seizure. Condition didn't improve. Afterwards cardiopulmonary arrest developed. Patient expired 8 hours after admission despite of resuscitation. Heat stroke in infancy and childhood is different from that in adulthood. The predisposing factors are high ambient temperature, dehydration, very young baby, sweat gland dysfunction, or ectodermal dysplasia. Definition of heat stroke includes 1) rectal temperature above 41 degrees C, 2) behavioral change, 3) warm skin, wet or dry.(ABSTRACT TRUNCATED AT 250 WORDS)\"\n",
    "# ms-marco-MiniLM-L12-v2 [-5.0213623 -5.2226663 -6.552218 ]\n",
    "# ms-marco-MiniLM-L6-v2 [-7.4047713 -7.993838  -7.994837 ]\n",
    "# \"cross-encoder/ms-marco-electra-base\" [0.9226231  0.91059524 0.8697561 ]\n",
    "# 'BAAI/bge-reranker-v2-m3' [-2.568312168121338, -1.3906357288360596, -6.028105735778809]\n",
    "# 'BAAI/bge-reranker-v2-gemma' [3.243699550628662, 3.633350133895874, 1.231812834739685]\n",
    "# ChatGPT & Claude: rag_2 is useful, 1 and 3 not useful\n",
    "\n",
    "\n",
    "# context = rag_1 + '\\n\\n' + rag_2 + '\\n\\n' + rag_3\n",
    "# #self.get_RAG_context(example[\"question\"])\n",
    "# question = data[\"question\"]\n",
    "# choices = data[\"choices\"]\n",
    "# answer_key = data[\"correct\"]\n",
    "# formated_choices = format_choices(choices)\n",
    "# model_prompt = prompt.format(context = context, question = question, choices = formated_choices)\n",
    "\n",
    "# model_prompt = f\"Question: {question_2} \\n Context: {rag_2_1} \\n Is the context useful for answering the question? \\n [A] Yes \\n [B] No\"\n",
    "# model_prompt = f\"Question: {question_2} \\n Context: {rag_2_1} \\n Can the context answer the question? \\n [A] Yes \\n [B] No\"\n",
    "model_prompt = f\"Question: {question_71} \\n\\n Context A: {rag_71_1} \\n\\n Context B: {rag_71_2} \\n\\n Which context is more useful to answer the question? \\n [A] A \\n [B] B\"\n",
    "\n",
    "messages = [{\"role\": \"user\", \"content\": f\"{model_prompt}\"}]\n",
    "# add_generation_prompt indicates the start of a response\n",
    "inputs = trainer.tokenizer.apply_chat_template(messages, add_generation_prompt = True, return_tensors = \"pt\").to(trainer.device)\n",
    "# print(\"inputs:\", tokenizer.apply_chat_template(messages, add_generation_prompt = True, tokenize = False))\n",
    "generate_kwargs = {\n",
    "    \"max_new_tokens\": 1024,\n",
    "    \"do_sample\": True,\n",
    "    \"temperature\": 0.00001,\n",
    "}\n",
    "outputs = trainer.model.generate(inputs, **generate_kwargs)\n",
    "\n",
    "text = trainer.tokenizer.batch_decode(outputs)[0]\n",
    "# output_text = run_inference(model_prompt, self.model, self.tokenizer, max_new_tokens = 1024, temperature = self.temperature)\n",
    "# output_text = output_text.split(\"<|assistant|>\")[-1]\n",
    "print(\"model output:\", text)\n"
   ]
  },
  {
   "cell_type": "code",
   "execution_count": null,
   "id": "71d7554d-57d0-4740-8afd-b45b7aa9516d",
   "metadata": {},
   "outputs": [],
   "source": []
  }
 ],
 "metadata": {
  "kernelspec": {
   "display_name": "Python (LLM)",
   "language": "python",
   "name": "llm"
  },
  "language_info": {
   "codemirror_mode": {
    "name": "ipython",
    "version": 3
   },
   "file_extension": ".py",
   "mimetype": "text/x-python",
   "name": "python",
   "nbconvert_exporter": "python",
   "pygments_lexer": "ipython3",
   "version": "3.9.21"
  }
 },
 "nbformat": 4,
 "nbformat_minor": 5
}

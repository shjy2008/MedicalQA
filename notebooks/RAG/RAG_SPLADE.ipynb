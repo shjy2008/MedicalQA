{
 "cells": [
  {
   "cell_type": "code",
   "execution_count": null,
   "id": "8ec668e8-a1fd-48d8-8902-9188a2cf7d07",
   "metadata": {},
   "outputs": [],
   "source": [
    "from sentence_transformers import SparseEncoder\n",
    "\n",
    "# Download from the Hub\n",
    "# model = SparseEncoder(\"naver/splade-cocondenser-ensembledistil\")\n",
    "model = SparseEncoder(\"naver/splade-v3\")\n",
    "\n",
    "# Run inference\n",
    "queries = [\"what causes aging fast\"]\n",
    "documents = [\n",
    "    \"UV-A light, specifically, is what mainly causes tanning, skin aging, and cataracts, UV-B causes sunburn, skin aging and skin cancer, and UV-C is the strongest, and therefore most effective at killing microorganisms. Again â\\x80\\x93 single words and multiple bullets.\",\n",
    "    \"Answers from Ronald Petersen, M.D. Yes, Alzheimer's disease usually worsens slowly. But its speed of progression varies, depending on a person's genetic makeup, environmental factors, age at diagnosis and other medical conditions. Still, anyone diagnosed with Alzheimer's whose symptoms seem to be progressing quickly â\\x80\\x94 or who experiences a sudden decline â\\x80\\x94 should see his or her doctor.\",\n",
    "    \"Bell's palsy and Extreme tiredness and Extreme fatigue (2 causes) Bell's palsy and Extreme tiredness and Hepatitis (2 causes) Bell's palsy and Extreme tiredness and Liver pain (2 causes) Bell's palsy and Extreme tiredness and Lymph node swelling in children (2 causes)\",\n",
    "]\n",
    "query_embeddings = model.encode_query(queries)\n",
    "document_embeddings = model.encode_document(documents)\n",
    "print(query_embeddings.shape, document_embeddings.shape)\n",
    "# [1, 30522] [3, 30522]\n",
    "\n",
    "# Get the similarity scores for the embeddings\n",
    "similarities = model.similarity(query_embeddings, document_embeddings)\n",
    "print(similarities[0].tolist())\n",
    "# tensor([[ 9.9933, 10.8691,  3.4265]])"
   ]
  },
  {
   "cell_type": "code",
   "execution_count": null,
   "id": "2fba86dc-f021-4948-ba9d-65dd9718f33b",
   "metadata": {},
   "outputs": [],
   "source": [
    "question_206 = \"A 34-year-old woman is assaulted and suffers a number of stab wounds to her abdomen. Bystanders call paramedics and she is subsequently taken to the nearest hospital. On arrival to the emergency department, her vitals are T: 36 deg C, HR: 110 bpm, BP: 100/60, RR: 12, SaO2: 99%. A FAST and abdominal CT are promptly obtained which are demonstrated in Figures A and B, respectively. Her chart demonstrates no other medical problems and vaccinations/boosters up to date. The patient is diagnosed with a Grade V splenic laceration and is immediately brought to the OR for emergent splenectomy. The splenectomy is successfully performed with removal of the damaged spleen (Figure C). Following the operation, the patient should receive which of the following vaccines: (I) H. influenzae (II) Tetanus (III) N. meningitidis (IV) S. pneumoniae (V) Hepatitis B\"\n",
    "rag_206_1 = \"Traumatic splenic laceration with delayed rupture secondary to coughing in a patient with Von Willebrand disease. We describe the case of a 54-year-old male with Von Willebrand Disease who presented to the Emergency Department (ED) with 2Â weeks of worsening abdominal pain after falling on his left flank while boating. On his initial presentation, he was found to have a Grade II splenic injury that was managed non operatively by the trauma service. Four days later, he returned to the ED when he developed severe abdominal pain after coughing and was found to have active extravasation from the splenic parenchyma with hemoperitoneum on CT angiography and a grossly positive FAST exam. Intraoperatively, he was found to have a Grade V splenic injury and subsequently underwent splenectomy.\"\n",
    "rag_206_2 = \"Development of Bilateral Heterotopic Ossification After Survival of Life Threatening Purpura Fulminans. Heterotopic ossification has been reported in patients who have undergone traumatic amputations, burn injuries, and total hip arthroplasty; however, the incidence of heterotopic ossification following purpura fulminans has only been reported in one case with unilateral involvement. Here we present a bilateral lower extremity case of heterotopic ossification as sequelae of purpura fulminans.Â  A 34-year-old male smoker with a past medical history of stab wounds to the chest and abdomen requiring emergent exploratory laparotomy, diaphragmatic repair, and splenectomy 15 years agoÂ presented to the emergency department with a rapid onset of high fevers, chills and myalgia. He did not receive post-splenectomy prophylactic vaccinations forÂ \"\n",
    "rag_206_3 = \"Ectopic splenic autotransplantation following traumatic injury: A case report. A 41-year-old male patient was admitted to the General Hospital of Guangzhou Military Command due to upper abdominal pain persisting for 12 h. Computed tomography (CT) and positron emission tomography/CT scans revealed multiple soft-tissue shadows in the abdominal cavity, peritoneum and Glisson's capsule, but the metabolic activity was at normal levels. A small area of low-density shadows near the tail of the pancreas and multiple shadows of enlarged lymph nodes were identified around the porta hepatis and the pancreas, with a mildly increased metabolic activity. On the basis of the CT images the patient was diagnosed with pancreatitis. Radionuclide imaging showed the absence of the spleen from its normal position (following splenectomy), but abnormal phagocytosis of multiple red blood cells was observed in the abdomen, which was diagnosed as ectopic splenic autotransplantation (ESAT). The patient subsequently recovered well following symptomatic treatment. ESAT in trauma patients requires urgent surgery in order to remove the damaged spleen and artificially cultivate partial splenic tissue.\"\n",
    "\n",
    "question_74 = \"A 29-year-old woman presents to the clinic after several months of weight loss. She noticed a 6.8 kg (15 lb) unintentional weight loss over the preceding several months. She has not changed her diet or exercise habits. She also reports feuding with her boyfriend over the temperature of their shared apartment, as she always feels warmer than he does. The vital signs include: heart rate 110/min and blood pressure 146/78 mm Hg. The physical exam is notable for warm and slightly moist skin. She also exhibits a fine tremor in her hands when her arms are outstretched. The urine pregnancy test is negative. Which of the following is the best single treatment option for this patient?\"\n",
    "rag_74_1 = \"Impact of different levels of weight loss on blood pressure in overweight and obese women. This study sought to determine the impact of different levels of weight loss on blood pressure in overweight/obese women. One hundred fifty-nine overweight/obese women (age 48.7 +/- 9.7, weight 101.3 +/- 18.7 kg, BMI 37.3 +/- 6.6 kg/m(2)) completed a six-month clinical weight loss program that included weekly nutrition, behavior, and exercise instruction. Participants consumed a very-low-energy diet (VLED) for 12 weeks. VLED was followed by four weeks of gradual reintroduction to solid foods. At week 16, participants received a diet to maintain weight or slightly reduce weight (&lt;0.5 lb/week) which they followed for the duration of the study. All lab and blood pressure assessments were performed at baseline and six months. Three groups were formed according to the proportion of weight loss after six months; Group 1 had &lt; 10% (n = 19), Group 2 had 10%-20% (n = 64), and Group 3 had &gt;20% (n = 76) weight loss. Differences in systolic blood pressure (mm Hg) were found in dose response fashion for weight loss at six months with 125 +/- 17 (&lt;10%), 119 +/- 13 (10%-20%), and 117 +/- 15 (&gt;20%; p = 0.005). Differences in diastolic blood pressure (mm Hg) were also found in dose response fashion with 81 +/- 9 (&lt;10%), 77 +/- 9 (10%-20%), and 75 +/- 9 (20%; p = 0.003). These data indicate that increasing weight loss beyond 10% of initial body weight may provide added improvements in blood pressure compared to less than 10% weight loss in overweight or obese women.\"\n",
    "rag_74_2 = \"Use of sibutramine in obese mexican adolescents: a 6-month, randomized, double-blind, placebo-controlled, parallel-group trial. The prevalence of overweight and obesity in children and adolescents is increasing in both the United States and Mexico. The goal of this article was to assess the efficacy and safety of sibutramine in obese Mexican adolescents. This was a 6-month, randomized, double-blind, placebo-controlled, prospective clinical trial of sibutramine QD. Male and female patients aged 14 to 18 years with sex-specific body mass index (BMI) for age and sex &gt;85th percentile were eligible. The primary end points for the trial were the baseline versus end point absolute values for body weight, BMI, and percentage of the initial BMI (%BMI); secondary end points were waist circumference and percentage of the initial waist circumference (%waist). These were measured at days -15, 0, 30, 60, 90, 120, 150, and 180 of the study. Quality of life was assessed at the study start and end using the 36-Item Short-Form Health Survey (SF-36) questionnaire. Blood pressure and heart rate were assessed, and adverse events (AEs) were recorded. Both groups received individually tailored diet and exercise programs. Forty-six patients (age range, 14-18 years) with a BMI &gt;95th percentile for age were included (sibutramine group, n = 23 [14 females, 9 males]; placebo group, n = 23 [12 females, 11 males]). Twenty-one patients in the sibutramine group and 19 patients in the placebo group completed the 6-month trial. Using the intent-to-treat data, weight (mean [SD]) in the sibutramine group changed from 92.5 (14.6) kg to 85.7 (14.4) kg, for a net weight loss of 7.3 kg (95% CI 4.6-9.9), a waist circumference loss of 8.0 cm (95% CI, 4.7-11.3), and a % BMI loss of 9.2% (95% CI, 6.9-11.6). In the placebo group, weight changed from 98.9 (22.7) kg to 94.6 (22.5) kg, a weight loss of 4.3 kg (95% CI, 1.7-6.9), a waist circumference loss of 3.8 cm (95% CI, 0.7-7.0), and a %BMI loss of 5.2% (95% CI, 2.4-7.9) (P &lt; 0.05 for all intragroup comparisons; P &gt; 0.05 for the intergroup comparisons). Mean (SD) scores on the SF-36 scale in the sibutramine group changed from 78.0 (13.3) at baseline to 84.8 (7.4) at study end (P &lt; 0.05); the respective values in the placebo group were 82.8 (10.3) and 87.3 (7.6) (P &lt; 0.05). At base-line, systolic blood pressure (SBP) was 116.7 (5.9) mm Hg in the sibutramine group and 118.3 (7.6) mm Hg in the placebo group; at end point, the respective SBPs were 112.4 (9.6) mm Hg and 112.6 (6.5) mm Hg. At baseline, diastolic blood pressure (DBP) was 78.9 (4.5) mm Hg in the sibutramine group and 79.5 (5.2) mm Hg in the placebo group; at end point, the respective DBPs were 73.5 (6.3) mm Hg and 76.6 (6.2) mm Hg. At baseline, heart rate was 76.3 (6.4) beats/min in the sibutramine group and 81.1 (9.5) beats/min in the placebo group; at end point, the respective findings were 79.8 (8.8) beats/min and 77.6 (8.6) beats/min (P &gt; 0.05 for all preceding intergroup comparisons). One patient in the sibutramine group had increased blood pressure (at month 3) and 3 had increased heart rate (at months 1, 2, and 4); 2 patients receiving placebo had increased blood pressure (month 3) and 2 had increased heart rate (at months 1 and 3). These changes disappeared in 1 week and did not require treatment or trial suspension. Additionally, in the sibutramine group, 3 patients experienced 4 mild AEs: headache, dry mouth, headache with nausea, and headache with weakness and paleness (P &gt; 0.05). In the placebo group, 3 patients experienced 4 mild AEs: 2 cases of headache, as well as 1 case of headache with somnolence and 1 case of headache with dry mouth (P &gt; 0.05). Sibutramine 10 mg QD in addition to diet and exercise was effective and generally well tolerated in this population of obese Mexican adolescents.\"\n",
    "rag_74_3 = \"Randomized clinical trials of weight reduction in nonhypertensive persons. Since 1987, four randomized controlled clinical trials with 872 nonhypertensive subjects have produced results on weight-reducing interventions, involving decreased caloric intake and/or increased expenditure, for effects on blood pressure (BP). The Hypertension Prevention Trial maintained a 3.5-kg net weight loss through 36 months with intake reduction alone. This program decreased BP by 2.4/1.8 mm Hg (systolic/diastolic) compared to controls, but both weight loss and blood pressure changes were smaller when combined with decreased sodium intake. A Stanford University trial achieved weight losses of 7.4 and 5.1 kg over 12 months with diet and exercise, respectively. Effects on clinic BP were in the range of 1.5 to 3.0 mm Hg and did not differ by intervention approach. The sole trial in children, conducted at University of Michigan, found similar weight loss (about 7 kg) and BP effects from limiting caloric intake over 20 weeks, regardless of inclusion of an exercise program; the latter did, however, result in greater reductions in percent body fat, heart rate, and serum insulin levels. The Primary Prevention of Hypertension trial tested a multifactor intervention including reductions in weight (mean, 2.7 kg), sodium and alcohol intake, and increased physical activity. During a 5-year period, clinic BP was reduced by 2.0/1.9 mm Hg, and the incidence of hypertension, by 52%. It is concluded that weight loss, however achieved, lowers BP in overweight nonhypertensive persons, and probably can contribute substantially to reducing the incidence of hypertension. Whether there are independent effects additive to weight loss from increasing physical activity and reducing sodium intake remains unknown.\"\n",
    "\n",
    "question_71 = \"\"\"A 66-year-old man is brought to the emergency room by his wife due to abdominal distension and persistent somnolence for the past 2 weeks. The patient’s wife says that he has been sleeping much more than usual for the past 5 days. His bowel and bladder habit have not changed. His past medical history is significant for alcoholic liver cirrhosis. His vital signs include: pulse 76/min, respiratory rate 15/min, temperature 38.0°C (100.4°F) and blood pressure 122/75 mm Hg. On physical examination, the patient is altered and not responsive to commands. Oriented x 0. The abdomen is significantly distended. Shifting dullness is present and a positive fluid wave can be elicited. Hyperreflexia and asterixis are noted. Laboratory findings are significant for the following:\n",
    "Laboratory test\n",
    "Sodium 140 mEq/L\n",
    "Potassium 3.5 mEq/L\n",
    "Chloride 97 mEq/L\n",
    "Glucose 90 mg/dL\n",
    "Ammonia 100 µg/dL (ref: 19-60 µg/dL)\n",
    "Arterial blood gas\n",
    "pH 7.4\n",
    "pCO2 40 mm Hg\n",
    "pO2 90 mm Hg\n",
    "HCO3 26 mEq/L\n",
    "An abdominal ultrasound shows surface nodularity compatible with cirrhosis but no other changes aside from ascites. An upper GI endoscopy is performed which shows gastric varices with no signs of active bleeding. An MRI of the brain is insignificant. What is the most likely precipitating factor that led to this patient’s condition?\n",
    "\"\"\"\n",
    "rag_71_1 = \"[Central pontine myelinolysis--pathogenesis and review of the literature]. A 77-year-old, nonalcoholic man was admitted to the Omiya Red Cross Hospital with the complaint of fever and delirium state of two days' duration. Two months prior to admission he had had cough and sputum. Chest X-ray revealed honey comb lungs. Cultures of sputum revealed mycobacterium tuberculosis after eight weeks incubation. He had no liver disease in his past history. The patient appeared cachetic. His vital signs were as follows; temperature 38 degrees C, blood pressure 132/68 mmHg, with a pulse rate of 84/min. He was delirium and excited. Findings of the cranial, motor and sensory nerve examination were normal. Initial laboratory studies showed a serum sodium value of 133 mEq/l, potassium 4.5 mEq/l, chloride 98 mEq/l; a serum GOT value of 51 units, GPT 36 units; a total protein content of 7.8 g/dl and ESR rate of 87 mm/hr. Six days after admission, the patients' consciousness level began to stupor and nuchal rigidity was appeared. Spinal fluid examination revealed opening pressure 270 mm H2O, cell counts 720 (N 712, L 8)/cumm, sugar 57 mg/dl and protein 170 mg/dl. Spinal fluid cultures were positive in mycobacterium tuberculosis after eight weeks incubation. Laboratory studies showed a serum sodium value of 114 mEq/l, potassium 4.4 mEq/l, chloride 86 mEq/l, a serum osmorality (SeOs) 225 mOsm/l and urine osmorality (UOs) 958 mOsm/l.(ABSTRACT TRUNCATED AT 250 WORDS)\"\n",
    "rag_71_2 = \"Acute kidney injury in patients with cirrhosis: perils and promise. A 62-year-old man with cirrhosis secondary to hepatitis C and chronic alcohol abuse was admitted to the intensive care unit with hematemesis and mental status changes. Physical examination showed ascites and stigmata of chronic liver disease. Blood pressure was noted as 87/42 mm Hg and laboratory studies showed a serum creatinine level of 0.8 mg/dL, an estimated glomerular filtration rate of 84 mL/min/1.73 m(2) calculated using the Modification of Diet in Renal Disease Study equation, a serum sodium level of 123 mEq/L, a total serum bilirubin level of 4.3 mg/dL, and an international normalization ratio of 1.6. The patient was resuscitated with packed red blood cells and fresh-frozen plasma and bleeding was controlled. However, on the third day of admission, creatinine level increased to 1.5 mg/dL. Examination of urine sediment showed 1 to 5 bilirubin-stained granular casts per high-powered field and a few renal tubular epithelial cells. The urine sodium level was 21 mEq/L and the fractional excretion of sodium was 0.43%.\"\n",
    "rag_71_3 = \"[Status epilepticus induced by prolonged immersion in hot herb bath: report of one case]. A 6-year-old girl with cerebral palsy developed conscious disturbance and generalized convulsion after one-hour hot herb drug bath. Physical examination on admission revealed rectal temperature 41 degrees C, hot skin, respiration 46/min, regular heart beat 98/min, BP 130/60 mmHg, Glascow coma scale 4 (E2M1V1), soft and flat abdomen, no hepatosplenomegaly, no skin rash, no focal neurological sign, increased generalized muscle ton. Laboratory data showed CBC: WBC 20400 cumm (Neutrophils 31%, Lymphocytes 69%), Hb 11.6gm%, ESR 11 mm/hr, arterial blood gas: PH 7.077, PO2 43mmHg, PCO2 57.1mmHg, HCO3- 16 mEq/L, BE-11.5mEq/L, serum sodium 143 mEq./L, potassium 5.2 mEq/L, chloride 101 mEq/L, free calcium ion 3.8mg%, GOT 63IU/L, GPT 263 IU/L, amylase 193 IU/L, alkaline phosphatase 388 IU/L, LDH 1245 IU/L, CPK 677 IU/L, total bilirubin 0.8 mg/dl, direct type 0.1 mg/dl, BUN 18 mg/dl, Glucose 35 mg/dl. Urinalysis revealed proteinuria( ) trace hematuria and pyuria, but no cast. Lumbar puncture is within normal limits. Bacteriology including blood and CSF are normal. Multiple organ failure was noted at that time. Intensive cooling methods were performed including central and peripheral cooling. We used luminal and valium to control the seizure. Condition didn't improve. Afterwards cardiopulmonary arrest developed. Patient expired 8 hours after admission despite of resuscitation. Heat stroke in infancy and childhood is different from that in adulthood. The predisposing factors are high ambient temperature, dehydration, very young baby, sweat gland dysfunction, or ectodermal dysplasia. Definition of heat stroke includes 1) rectal temperature above 41 degrees C, 2) behavioral change, 3) warm skin, wet or dry.(ABSTRACT TRUNCATED AT 250 WORDS)\"\n",
    "\n",
    "\n",
    "queries = [question_71]\n",
    "documents = [rag_71_1, rag_71_2, rag_71_3]\n",
    "\n",
    "query_embeddings = model.encode_query(queries)\n",
    "document_embeddings = model.encode_document(documents)\n",
    "\n",
    "similarities = model.similarity(query_embeddings, document_embeddings)\n",
    "print(similarities)"
   ]
  },
  {
   "cell_type": "code",
   "execution_count": 1,
   "id": "164ce2cc-eeb9-4c5f-836f-644bdf5d9895",
   "metadata": {},
   "outputs": [
    {
     "name": "stderr",
     "output_type": "stream",
     "text": [
      "/home/sheju347/.local/lib/python3.9/site-packages/tqdm/auto.py:21: TqdmWarning: IProgress not found. Please update jupyter and ipywidgets. See https://ipywidgets.readthedocs.io/en/stable/user_install.html\n",
      "  from .autonotebook import tqdm as notebook_tqdm\n"
     ]
    }
   ],
   "source": [
    "import sys\n",
    "import os\n",
    "sys.path.append(os.path.abspath(\"..\"))\n",
    "    \n",
    "from train_phi_3_mini import ModelTrainer\n",
    "from test_performance import TestPerformance, DatasetPath, MMLU_Subset"
   ]
  },
  {
   "cell_type": "code",
   "execution_count": 2,
   "id": "ecb99f9b-eefa-4d9f-bb7e-438648c24fab",
   "metadata": {},
   "outputs": [
    {
     "name": "stdout",
     "output_type": "stream",
     "text": [
      "---------- start checking GPU -----------\n",
      "GPU: NVIDIA H100 NVL\n",
      "torch.cuda.is_bf16_supported():  True\n",
      "---------- finish checking GPU -----------\n",
      "---------- start loading model:/projects/sciences/computing/sheju347/MedicalQA/train/saved_models/fine_tuned_model_entire_UltraMedical_batch_4 -----------\n",
      "finish loading tokenizer\n"
     ]
    },
    {
     "name": "stderr",
     "output_type": "stream",
     "text": [
      "Loading checkpoint shards: 100%|██████████| 2/2 [00:00<00:00,  5.12it/s]\n"
     ]
    },
    {
     "name": "stdout",
     "output_type": "stream",
     "text": [
      "finish loading model\n",
      "torch_dtype: torch.bfloat16\n",
      "cuda available: True\n",
      "device: cuda\n",
      "---------- finish loading model:/projects/sciences/computing/sheju347/MedicalQA/train/saved_models/fine_tuned_model_entire_UltraMedical_batch_4 -----------\n"
     ]
    }
   ],
   "source": [
    "\n",
    "trainer = ModelTrainer()\n",
    "\n",
    "# model_name = \"microsoft/Phi-3-mini-4k-instruct\"\n",
    "model_name = \"/projects/sciences/computing/sheju347/MedicalQA/train/saved_models/fine_tuned_model_entire_UltraMedical_batch_4\"\n",
    "\n",
    "\n",
    "trainer.load_model(model_name)"
   ]
  },
  {
   "cell_type": "code",
   "execution_count": 3,
   "id": "93aa67d7-526a-4c63-8338-ecfb79dbed9f",
   "metadata": {},
   "outputs": [
    {
     "name": "stdout",
     "output_type": "stream",
     "text": [
      "model: /projects/sciences/computing/sheju347/MedicalQA/train/saved_models/fine_tuned_model_entire_UltraMedical_batch_4\n"
     ]
    },
    {
     "name": "stderr",
     "output_type": "stream",
     "text": [
      "You're using a XLMRobertaTokenizerFast tokenizer. Please note that with a fast tokenizer, using the `__call__` method is faster than using a method to encode the text followed by a call to the `pad` method to get a padded encoding.\n",
      "Token indices sequence length is longer than the specified maximum sequence length for this model (4705 > 4096). Running this sequence through the model will result in indexing errors\n",
      "The attention mask is not set and cannot be inferred from input because pad token is same as eos token. As a consequence, you may observe unexpected behavior. Please pass your input's `attention_mask` to obtain reliable results.\n",
      "This is a friendly reminder - the current text generation call will exceed the model's predefined maximum length (4096). Depending on the model, you may observe exceptions, performance degradation, or nothing at all.\n"
     ]
    },
    {
     "name": "stdout",
     "output_type": "stream",
     "text": [
      "outputs text: <|user|> You are a medical question answering assistant.\n",
      "\n",
      "The following context may or may not be useful. Use it only if it helps answer the question.\n",
      "INSTRUCTIONS:\n",
      "- If the context directly helps answer the question, use it and cite appropriately\n",
      "- If the context is topically related but not diagnostically relevant, acknowledge it but rely on your medical knowledge\n",
      "- If the context might mislead you toward a less likely diagnosis, explicitly state why you're not following it\n",
      "\n",
      "Context:\n",
      "[Malalignment of the first ray : Clinical and radiological diagnostics]. Clinical and radiological examination of the foot are mandatory before surgical correction of the forefoot. The clinical examination includes leg axis, position of the hind foot, deformity of the first ray as well as skin conditions, pulse status and possible sensitive deficits. AÂ shortening of the gastrocnemius muscle can be identified using the SilfverskiÃ¶ld test. Discomfort in the midfoot can indicate pathologies of the tarsometatarsal joint and the same applies for osteophyte infiltration around the Lisfranc joint line, whereby the second tarsometatarsal joint often shows more advanced degenerative arthritis than the first tarsometatarsal joint. Callosities under the second and third metatarsal heads correlate with aÂ faulty load transmission of the first ray. AÂ limitation of the range of movement of the first metatarsophalangeal joint is usually associated with degenerative arthritis in Xâray imaging. Under weight bearing, Xârays of the foot in two planes represent the standard imaging examination. In addition to the intermetatarsal angle, the hallux valgus angle and the interphalangeal angle as well as the width of the first metatarsal bone influence the therapy decision. The same applies to degenerative changes or an obvious instability of the first tarsometatarsal joint. In many cases, initial signs of degenerative arthritis can be found in the metatarsophalangeal joint and around the sesamoid bones, although these often do not correlate to clinical symptoms.\n",
      "\n",
      "\n",
      "Functional anatomy and imaging of the foot. The foot is constituted from a series of small bones making a segmented structure with multiple joints, likened to a dome, in contact with the ground in three points: posteriorly the calcanear tuberosity; anteriorly and medially the head of 1st metatarsum, and anteriorly and laterally the head of 5th metatarsum. In fact, each foot presents a semi-arch whose base is represented by the lateral border and the summit by the medial border of the foot. The foot has been likened to a half-dome, so that when the medial borders of the two feet are placed together, a complete dome is formed. In the foot are present two longitudinal arches: the medial consists of the calcaneus, the talus, the navicular, the three cuneiform bones and the first three metatarsal bones. It is more arcuated and elastic then the lateral, that consist of the calcaneus, the cuboid and the 4th and 5th metatarsus. This is flattened and in contact with the ground. We can identify two transverse arches between longitudinal arches, extending from the medial to the lateral borders of the foot: the first is a lancet dome, between midfoot and forefoot, at the tarsometatarsal joint level; it consists of the bases of the metatarsal bones and the cuboid and the three cuneiform bones; the second is at flat dome, in correspondence of forefoot, at the metatarsophalangeal joint level; it consists of the bases of the proximal phalanges of the fingers and the head of five metatarsal bones. Longitudinal and transversal arches are supported from: the shape of stones of the structure (foot bones); the long and short plantar ligaments, larger and stronger than the dorsal ligaments, tie together the lower edges of the bones; a beam (the plantar aponeurosis and the plantar muscles and tendons) connecting the ends of the bridge effectively prevents separation of the pillars and consequent sagging of the arch; the maintenance of the arch depends on multiple support (ligaments, tendons of extrinsic muscles of the foot) suspending the arch from a cable above the level of the bridge. In this manner, we obtain a \"functional unit\" with two important aims: to support the body weight (static foot), and to serve as a lever to propel the bodies forward in walking and running (dinamic foot). Imaging techniques are able to provide further data on functional anatomy of the foot; in particular, these techniques show the bones structures, ligaments, muscles and tendons, taking part to the arch setting. Routine x-ray examinations precise information about the bone-shape and their relationship. The short and long ligaments, the tendons and the suspending the arch from above are instead successfully valuable using ultrasonography, CT and MR.\n",
      "\n",
      "\n",
      "Congenital subtalar dislocation--a case report. Congenital dislocation of the subtalar joint is one of the rarest forms of presentation of a calcaneo-valgus foot. We report the second case of this type published; an 18-month female child aged was seen with calcaneo-valgus deformity of left foot since birth. She was walking over the medial malleolus and medial border of foot. Radiographs and 3D CT scan of the left foot confirmed the diagnosis of a congenital subtalar dislocation. Surgical correction was achieved through a posterolateral incision, and the reduced joint was fixed with a k-wires for 6 weeks; the foot was immobilized in below knee cast for another 6 weeks, and an ankle foot orthosis was used for another 3 years. At 3 years post-surgical follow up, the child has a plantigrade foot with no functional impairment. Follow up radiographs and 3D CT scan confirmed the maintenance of well aligned talo-calcaneal joint. This type of dislocation should be considered in the differential diagnosis of calcaneo-valgus foot; a clear understanding of the pathology, a precise operative reduction, and long-term use of orthosis results in a favourable outcome.\n",
      "\n",
      "\n",
      "Medial arch orthosis for paediatric flatfoot. To evaluate any correlation between various foot angles and their respective American Orthopaedic Foot and Ankle Society (AOFAS) scores for pain, and the effectiveness of a medial arch orthosis. 81 children with bilateral symptomatic flatfoot were randomised into orthosis (n=55) and control (n=26) groups. The orthosis group consisted of 33 male and 22 female patients aged 36 to 204 (mean, 99) months and they were given a medial arch support. The control group consisted of 15 male and 11 female patients aged 36 to 192 (mean, 100) months and they were managed with analgesics. Foot angles including anteroposterior (AP) and lateral talocalcaneal (TC) angles, AP and lateral talo- first metatarsal (TFM) angles, calcaneal pitch angle (in lateral plane), and talonavicular (TN) angle were measured, as were AOFAS scores for pain for the forefoot, midfoot, and hindfoot. After orthosis treatment, all AOFAS scores and all foot angles (except for the AP-TN angle) improved significantly. In the controls, all AOFAS scores (except for the midfoot score) and only the AP-TFM angle improved significantly. In the orthosis group, the AOFAS hindfoot score correlated positively with the lateral TC angle of the left foot (r=0.345, p=0.010) and negatively with the calcaneal pitch angle of the right foot (r=-0.33, p=0.015). In the control group, the lateral TFM angle of the left foot correlated negatively with the AOFAS forefoot (r=-0.566, p=0.003) and midfoot scores (r=-0.497, p=0.001), whereas the calcaneal pitch angle of the left foot correlated positively with the AOFAS forefoot score (r=0.497, p=0.010). Medial arch support orthosis significantly improved AOFAS scores and foot angles. Calcaneal pitch angle and lateral TC angle correlated well with AOFAS hindfoot scores.\n",
      "\n",
      "\n",
      "New Sagittal Plane Reference Parameters for Foot Deformity Correction Planning: The Vitruvian Foot. Currently available methods for analysis and planning of post-traumatic or congenital deformity correction of the foot have some limitations. The aim of this retrospective study was to establish reference lines and angles (RLAs), and the resulting ratios, based on reproducible anatomic points on sagittal feet radiographs. The key starting point of our evaluation was the previously undescribed length and position of the talus joint line (TJL), from the border of the articular surface of the talus and the posterior process of talus. First, we calculated the relationships between the TJL and the axes of the foot, particularly the anatomic and mechanical lateral talometatarsal angle axes of the first metatarsal. Then, we assessed the relationships with the calcaneus, particularly the lateral heel angle. Finally, we calculated the parameters (angles and coefficients k) derived from the TJL and the foot-bearing points (foot quadrilateral). A total of 64 normal radiographs from 55 patients were analyzed. The values that resulted are as follows: anatomic lateral talometatarsal angleâ¯=â¯28.5Â° Â± 4.5Â°, mechanical lateral talometatarsal angleâ¯=â¯23.6Â° Â± 3.2Â°, lateral heel angleâ¯=â¯15.2Â° Â± 3.4Â°, foot quadrilateral: abcâ¯=â¯144.6Â° Â± 9.4Â°, bcdâ¯=â¯31.3Â° Â± 2.6Â°, cdaâ¯=â¯79.2Â° Â± 9.8Â°, dabâ¯=â¯105.0Â° Â± 8.3Â°, k1â¯=â¯3.09 Â± 0.4, k2â¯=â¯3.77 Â± 0.78, and k3â¯=â¯1.56 Â± 0.24. Sagittal plane reference lines and angles are proposed, providing quantitative values for reference. These parameters have the potential to be easily implemented in foot deformity analysis and correction planning.\n",
      "\n",
      "\n",
      "Normal radiographic values of the forefoot in the Thai women population. Diseases of the forefeet are common problems in orthopedics. Evaluation of forefoot radiography has played an important role to determine the forefoot deformity. Previous studies have shown that normal radiographic values of the western population were different from the Asian population values. To examine the normal range of radiologic values of forefoot in Thai women. The data collected at out-patient division of the hospital for screening 100 women (200 feet). All patients have been radiographed in the AP standing position (to measure the HVA, 1st IMA, DMAA, sesamoid AP and 1st metatarsal length) and weight bearing tangential view to determine the SRA angle. The average results of the right and the left foot HVA = 10.75 degrees, 9.39 degrees/1st IMA = 10.24 degrees, 9.20 degrees/DMAA = 3.72 degrees, 3.32 degrees/sesamoid AP grade 0-1 = 85 percent, 82 percent/ SRA = 9.14 degrees, 8 degrees respectively, 1st metatarsal length was shorter than the 2nd metatarsal length in most cases (70%) and when comparing between the right and the left foot, no statistical significant difference were found (p &gt; 0.05). Study found that the values of HVA, DMAA and the 1st metatarsal length in Thai women were less than the values found in the foreign literatures but it was similar to the Asian population figures.\n",
      "\n",
      "\n",
      "[The Akin procedure as closing wedge osteotomy for the correction of a hallux valgus interphalangeus deformity]. Realignment of the great toe in the case of a hallux valgus interphalangeus by means of a medially based closing wedge osteotomy. Hallux valgus interphalangeus deformity, characterized by an enlarged distal articular surface angle (&gt; 10 degrees). Correction of a hallux valgus interphalangeus deformity as an additional procedure in the case of hallux valgus surgery. Incongruent first metatarsophalangeal joint with lateral subluxation of the proximal phalanx. Isolated procedure to correct hallux valgus deformity. Lack of patient compliance. Neurovascular disturbance of the forefoot. Medially based closing wedge osteotomy of the proximal phalanx to reduce the distal articular surface angle. Fixation with a lag screw, cannulated Herbert screw, memory cramp, threaded Kirschner wire, or interosseous suture. Wound dressing to assure the position of the great toe. Radiographic documentation of the forefoot in two planes. Strict elevation of the operated foot to prevent postoperative swelling. Mobilization of the patient with a forefoot relief orthosis, until consolidation of the osteotomy is verified radiologically (4-5 weeks). Low-molecular-weight heparin for at least 1 week. Hallux valgus bandage or functional taping for 6 weeks postoperatively in patients with additional metatarsal osteotomy. Clinical and radiologic follow-up based on 32 patients showed good results. The postoperative Hallux Score of the American Orthopaedic Foot and Ankle Society improved to 89 points.\n",
      "\n",
      "\n",
      "Superconstructs in reconstruction surgery of Charcot foot Brodsky 1: A case report. Charcot neuropathic osteoarthropathy (CN) is a chronic, progressive condition of joints, soft tissues, and bones. CN causes considerable high mortality and morbidity. A common issue is early diagnosis and appropriate treatment. Thus, the operative treatment is indicated when patients have progressive deformities, infection and ulceration. The superconstructs method for Charcot foot (CF) is considered giving better clinical outcome than other methods. A 61-year-old male admitted to an outpatient clinic with chief complaint of swelling and pain on a left foot with history of diabetes mellitus type 2. From the physical examination, left foot revealed a swelling with rocker bottom deformity and limited range of motion. The radiological examination showed sclerotic appearance of bone deformity metatarsal joint of midfoot of toe. The patients were diagnosed with left Charcot foot Brodsky Type 1, Eichenholtz grade III with diabetes mellitus type 2. We made superconstructs rather than standard fixation which is frequently inadequate due to changes accompanying the Charcot process. Thus, we performed an adequate reduction of deformity, reduce soft tissue tension, fixation extension beyond a zone of injury, then use of strongest fixation devices that are applied to maximize mechanical function. This study showed that superconstructs provide satisfactory clinical and outcomes. This method is useful for achieving construct and stable fixation especially for Charcot foot.\n",
      "\n",
      "\n",
      "The management of mirror foot polydactyly: A case report. Mirror foot or mirror image duplication of the foot is an extreme form and very rare congenital anomaly. There are limited management recommendations, and most cases are treated before walking age. We present the clinical findings, surgical treatment, and results of a rare case of mirror foot polydactyly. A five-month-old girl with bilateral mirror foot was referred to our orthopaedic department. She was born full-term by the caesarian section and there was no family history of similar skeletal abnormalities and no history of drug or radiation exposure during gestation. The child had eight toes on the right foot and seven toes on the left with fully developed metatarsal, proximal, middle, and distal phalanges. Radiographs confirmed the diagnosis of mirror foot with a full complement of normal lateral toes and three additional complete rays medial to the right foot and two additional complete rays medial to the left foot. The patient underwent ray resection and concurrent reconstruction of the medial arch of the foot. A medial longitudinal incision was used to excised the right medial three rays and left medial two rays. The target of this surgical intervention was for aesthetic or cosmetic reasons and enabling the patient to allow shoe wear. Mirror-foot abnormalities are distinctly uncommon entities and represent extreme forms of congenital duplication of the preaxial polydactyly spectrum. Treatment on age of five-month-old with medial longitudinal incision had a satisfying clinical and radiological results.\n",
      "\n",
      "\n",
      "Surgical correction of foot equino-cavocarus deformity in Klippel-TrÃ©naunay-Weber syndrome: a case report. Klippel-TrÃ©naunay-Weber syndrome (KTWS) is a rare condition characterized by a classic clinical triad. However, it can also have other features, such as cavocarus foot deformity, which is a rare presentation in a patient with KTWS. In this case report, we present our surgical technique of correcting such a complex deformity. Also, there are no other similar cases reported in the literature. An 18-year-old girl who is a known case of KTWS with a complaint of progressive unilateral left foot deformity. Her examination, revealed a rigid pes cavus with an equinus deformity in the left foot. Radiography of the left foot revealed marked cavus as well as hindfoot and forefoot varus. A successful surgical correction of the deformity was described in a stepwise fashion. The management of foot cavocarus deformity in KTWS patients is associated with high intra- and post-operative risk due to its complexity. Therefore, the management requires a multidisciplinary team approach.\n",
      "\n",
      "\n",
      "\n",
      "\n",
      "Question:\n",
      "A 3-week-old male newborn is brought to the physician because of an inward turning of his left forefoot. He was born at 38 weeks' gestation by cesarean section because of breech presentation. The pregnancy was complicated by oligohydramnios. Examination shows concavity of the medial border of the left foot with a skin crease just below the ball of the great toe. The lateral border of the left foot is convex. The heel is in neutral position. Tickling the lateral border of the foot leads to correction of the deformity. The remainder of the examination shows no abnormalities. X-ray of the left foot shows an increased angle between the 1st and 2nd metatarsal bones. Which of the following is the most appropriate next step in the management of this patient?\n",
      "\n",
      "[A] : Foot abduction brace\n",
      "[B] : Arthrodesis of the forefoot\n",
      "[C] : Reassurance\n",
      "[D] : Tarsometatarsal capsulotomy\n",
      "<|end|><|assistant|> The newborn described in the question has an inward turning of the left forefoot, which is consistent with congenital talipes equinovarus (CTEV), also known as clubfoot. This condition is characterized by a combination of foot deformities including forefoot adduction, hindfoot varus, and medial rotation of the ankle. The fact that tickling the lateral border of the foot leads to correction of the deformity suggests that the foot is not rigidly fixed in the deformed position.\n",
      "\n",
      "The standard treatment for clubfoot is a combination of conservative management and surgical intervention. The conservative management typically includes the Ponseti method, which involves gentle manipulation and casting of the foot at regular intervals to gradually correct the deformity. This is usually followed by the use of a foot abduction brace to maintain the correction.\n",
      "\n",
      "Given that the baby is only 3 weeks old, the most appropriate next step in management would be to start with conservative treatment using a foot abduction brace to maintain the correction achieved by manual manipulation and casting. Surgical interventions such as arthrodesis or tarsometatarsal capsulotomy are considered if conservative treatment fails or in older children where the bones have fully formed.\n",
      "\n",
      "So, the answer is [A].<|end|>\n",
      "question 1/1 num:30 answer:A correct_answer:C False\n",
      "Total questions: 1, correct: 0, accuracy: 0.0\n",
      "elapse_time: 8.582762479782104\n"
     ]
    }
   ],
   "source": [
    "test = TestPerformance(trainer.model, trainer.tokenizer, trainer.device, is_encoder_decoder = False)\n",
    "# test.test_accuracy(DatasetPath.MMLU, subset_name = MMLU_Subset.College_medicine, is_ensemble = False)\n",
    "# data_range = [9, 13, 19, 24, 28, 29, 30, 31, 32, 38, 43, 44, 45, 46, 52, 56, 57, 62, 64, 68, 71, 73, 77, 87, 90, 94, 96, 97, 108, \n",
    "#               109, 110, 118, 123, 126, 133, 135, 139, 141, 143, 144, 145, 146, 159, 160, 166, 167, 170, 171, 172, 173, 179, 180, 181, 183, \n",
    "#               185, 186, 188, 191, 196, 197, 203, 205]\n",
    "\n",
    "data_range = range(29, 30) # None #range(34, 35)\n",
    "\n",
    "# data_range = None\n",
    "\n",
    "# data_range = range(1223, 1273)\n",
    "\n",
    "topK_searchEngine = 30\n",
    "topK_SPLADE = 30\n",
    "topK_monoBERT = 10\n",
    "\n",
    "test.test_accuracy(DatasetPath.MedQA, subset_name = None, is_ensemble = False, use_RAG = True, data_range = data_range, \n",
    "                  topK_searchEngine = topK_searchEngine, topK_SPLADE = topK_SPLADE, topK_monoBERT = topK_monoBERT)"
   ]
  },
  {
   "cell_type": "code",
   "execution_count": 9,
   "id": "ab682c50-dde8-4b93-9c6f-6c99988da119",
   "metadata": {},
   "outputs": [
    {
     "name": "stdout",
     "output_type": "stream",
     "text": [
      "model output: <|user|> You are a medical question answering assistant.\n",
      "\n",
      "The following context may or may not be useful. Use it only if it helps answer the question.\n",
      "INSTRUCTIONS:\n",
      "- If the context directly helps answer the question, use it and cite appropriately\n",
      "- If the context is topically related but not diagnostically relevant, acknowledge it but rely on your medical knowledge\n",
      "- If the context might mislead you toward a less likely diagnosis, explicitly state why you're not following it\n",
      "\n",
      "Context:\n",
      "[Preventive treatment of primary dysmenorrhea with ibuprofen]. An open, prospective study, including 15 young women with primary dysmenorrhea was carried out to asses the prophylactic administration of Ibuprofen for the treatment of severe and disabling primary dysmenorrhea. The study lasted six months, representing a total of 90 cycles, the inclusion criteria were: 1) severe and disabling primary dysmenorrhea, 2) Failure with previous conventional treatments, 3) regular menstrual cycles, 4) without active sexual life, 5) voluntary participation. The treatment schedule included 400 mg of ibuprofen every 8 hours, starting 24 hours before the menstrual cycle during 4 days of menstruation for six consecutive cycles. The intensity of the pain was recorded every eight hours using a linear analogue scale from 0 to 10 where 0 was absence of pain and 10 was severe or disabling pain. Results showed that the mean of initial intensity of the menstrual cramp experienced in the cycle before the treatment (control) was 9.47 +/- 0.5. During the prophylactic treatment the means of initial intensity of the pain were significantly lower, between 7.84 +/- 0.37 and 7.21 +/- 0.52. A statistically significant progressive decrease of pain was recorded during the duration of treatment. After 48 hours of treatment the intensity of the pain was recorded as three (mild). We conclude that the prophylactic administration of ibuprofen is an effective treatment for selected women experiencing severe and disabling primary dysmenorrhea.\n",
      "\n",
      "\n",
      "Increased vaginal bleeding and psychological distress: a longitudinal study of their relationship in the community. To explore the temporal relationship between the development of self-reported symptoms of vaginal bleeding and the development of psychological distress among women in the community. Prospective cohort study using postal surveys at baseline and at 6 and 12 months. An urban four-partner general practice with 10000 registered patients. All women aged 18-54 years on the practice age-sex register. Baseline postal questionnaire with follow up questionnaires sent at 6 and 12 months. The associations between the development of heavy periods and psychological distress. Two thousand and four hundred and thirty-five baseline questionnaires were sent out with an initial response rate of 76%. One thousand and five hundred and thirteen women (62%) responded to all three questionnaires. Women with psychological distress at baseline were more likely to develop heavy periods 6 months later than women without distress (adjusted odds ratio 1.87, 95% CI 1.15, 3.02). Women with heavy periods at baseline were no more likely to develop psychological distress 6 months later than women with non-heavy periods (adjusted odds ratio 1.09, 95% CI 0.73, 1.63). Similar findings existed with respect to intermenstrual bleeding and postcoital bleeding. Results of the 12-month analysis were similar. In the community, psychological distress appears to influence the future self-reporting of heavy periods and other symptoms of vaginal bleeding.\n",
      "\n",
      "\n",
      "STD interactive case challenge--diagnosing and treating chronic vulvar pain and erythema. A 36-year-old Caucasian woman arrives in your office, her chief complaint being vulvar pain and discomfort of 2 years' duration. She says that the onset of vulvar erythema and pain was gradual, beginning with mild tingling discomfort and eventually developing into dyspareunia and pain whenever she attempted to insert tampons, wore tight-fitting pants, or went horseback riding. The patient denies having vaginal discharge, change in menstrual pattern, or dysuria. She says she complained of the problem to several previous clinicians, who recommended anti-infective treatment for candidal vulvovaginitis, bacterial vaginosis, and recurrent cystitis, yet the symptoms persisted. One physician suggested a psychiatric evaluation, but the patient refused. She switched soap, shampoo, and even underwear fabric in an unsuccessful effort to ameliorate the symptoms. Over the past 6 months she has become increasingly frustrated with this problem.\n",
      "\n",
      "\n",
      "\n",
      "\n",
      "Question:\n",
      "A 45-year-old G5P4105 presents to her gynecologist’s office with six months of increasingly heavy periods. She now soaks one super absorbent tampon every two hours for five days each cycle. Her cycles have also become irregular, with intermenstrual bleeding for the last two months. She now experiences significant dysmenorrhea, requiring 400 mg ibuprofen every four hours for the majority of each menses. In addition, she reports new onset mild dyspareunia with intercourse and a “heavy feeling” in her pelvis. She has also noticed increased urinary frequency but denies bowel changes. The patient has a past medical history of obesity and type II diabetes on metformin. Her last child was born four years ago, and she has had five spontaneous vaginal deliveries. At this office visit, temperature is 98.5°F (36.9°C), blood pressure is 137/84 mmHg, pulse is 87/min, and respirations are 14/min. Which of the following physical exam findings is most likely to be present in this patient?\n",
      "\n",
      "[A] : Globular 10-week sized uterus\n",
      "[B] : Adnexal mass\n",
      "[C] : Irregular 14-week sized uterus\n",
      "[D] : No remarkable physical exam finding\n",
      "<|end|><|assistant|> The patient presents with symptoms of heavy menstrual bleeding (soaking one super absorbent tampon every two hours for five days each cycle), irregular cycles with intermenstrual bleeding, significant dysmenorrhea, and new onset mild dyspareunia. These symptoms suggest a possible underlying gynecological condition that could be causing her symptoms.\n",
      "\n",
      "Option A, a globular 10-week sized uterus, is indicative of a condition called adenomyosis, where the inner lining of the uterus breaks through the muscle wall of the uterus. This can cause heavy and painful periods, but it is not the most common cause of the symptoms described.\n",
      "\n",
      "Option B, an adnexal mass, could be a sign of a benign or malignant tumor in the ovaries or fallopian tubes. While this could cause some of the symptoms, it is less likely to be the cause of the heavy and irregular bleeding.\n",
      "\n",
      "Option C, an irregular 14-week sized uterus, is suggestive of uterine fibroids (leiomyomas), which are benign tumors of the uterus. Uterine fibroids are a common cause of heavy menstrual bleeding, irregular cycles, and pelvic pain, which aligns with the patient's symptoms.\n",
      "\n",
      "Option D, no remarkable physical exam finding, is unlikely given the patient's symptoms. A thorough physical exam would likely reveal some findings related to her symptoms.\n",
      "\n",
      "Given the patient's symptoms of heavy and irregular bleeding, significant dysmenorrhea, and pelvic discomfort, the most likely physical exam finding would be related to uterine fibroids.\n",
      "\n",
      "So, the answer is [C].<|end|>\n"
     ]
    }
   ],
   "source": [
    "\n",
    "model_prompt = \"\"\"You are a medical question answering assistant.\n",
    "\n",
    "The following context may or may not be useful. Use it only if it helps answer the question.\n",
    "INSTRUCTIONS:\n",
    "- If the context directly helps answer the question, use it and cite appropriately\n",
    "- If the context is topically related but not diagnostically relevant, acknowledge it but rely on your medical knowledge\n",
    "- If the context might mislead you toward a less likely diagnosis, explicitly state why you're not following it\n",
    "\n",
    "Context:\n",
    "[Preventive treatment of primary dysmenorrhea with ibuprofen]. An open, prospective study, including 15 young women with primary dysmenorrhea was carried out to asses the prophylactic administration of Ibuprofen for the treatment of severe and disabling primary dysmenorrhea. The study lasted six months, representing a total of 90 cycles, the inclusion criteria were: 1) severe and disabling primary dysmenorrhea, 2) Failure with previous conventional treatments, 3) regular menstrual cycles, 4) without active sexual life, 5) voluntary participation. The treatment schedule included 400 mg of ibuprofen every 8 hours, starting 24 hours before the menstrual cycle during 4 days of menstruation for six consecutive cycles. The intensity of the pain was recorded every eight hours using a linear analogue scale from 0 to 10 where 0 was absence of pain and 10 was severe or disabling pain. Results showed that the mean of initial intensity of the menstrual cramp experienced in the cycle before the treatment (control) was 9.47 +/- 0.5. During the prophylactic treatment the means of initial intensity of the pain were significantly lower, between 7.84 +/- 0.37 and 7.21 +/- 0.52. A statistically significant progressive decrease of pain was recorded during the duration of treatment. After 48 hours of treatment the intensity of the pain was recorded as three (mild). We conclude that the prophylactic administration of ibuprofen is an effective treatment for selected women experiencing severe and disabling primary dysmenorrhea.\n",
    "\n",
    "\n",
    "Increased vaginal bleeding and psychological distress: a longitudinal study of their relationship in the community. To explore the temporal relationship between the development of self-reported symptoms of vaginal bleeding and the development of psychological distress among women in the community. Prospective cohort study using postal surveys at baseline and at 6 and 12 months. An urban four-partner general practice with 10000 registered patients. All women aged 18-54 years on the practice age-sex register. Baseline postal questionnaire with follow up questionnaires sent at 6 and 12 months. The associations between the development of heavy periods and psychological distress. Two thousand and four hundred and thirty-five baseline questionnaires were sent out with an initial response rate of 76%. One thousand and five hundred and thirteen women (62%) responded to all three questionnaires. Women with psychological distress at baseline were more likely to develop heavy periods 6 months later than women without distress (adjusted odds ratio 1.87, 95% CI 1.15, 3.02). Women with heavy periods at baseline were no more likely to develop psychological distress 6 months later than women with non-heavy periods (adjusted odds ratio 1.09, 95% CI 0.73, 1.63). Similar findings existed with respect to intermenstrual bleeding and postcoital bleeding. Results of the 12-month analysis were similar. In the community, psychological distress appears to influence the future self-reporting of heavy periods and other symptoms of vaginal bleeding.\n",
    "\n",
    "\n",
    "STD interactive case challenge--diagnosing and treating chronic vulvar pain and erythema. A 36-year-old Caucasian woman arrives in your office, her chief complaint being vulvar pain and discomfort of 2 years' duration. She says that the onset of vulvar erythema and pain was gradual, beginning with mild tingling discomfort and eventually developing into dyspareunia and pain whenever she attempted to insert tampons, wore tight-fitting pants, or went horseback riding. The patient denies having vaginal discharge, change in menstrual pattern, or dysuria. She says she complained of the problem to several previous clinicians, who recommended anti-infective treatment for candidal vulvovaginitis, bacterial vaginosis, and recurrent cystitis, yet the symptoms persisted. One physician suggested a psychiatric evaluation, but the patient refused. She switched soap, shampoo, and even underwear fabric in an unsuccessful effort to ameliorate the symptoms. Over the past 6 months she has become increasingly frustrated with this problem.\n",
    "\n",
    "\n",
    "\n",
    "\n",
    "Question:\n",
    "A 45-year-old G5P4105 presents to her gynecologist’s office with six months of increasingly heavy periods. She now soaks one super absorbent tampon every two hours for five days each cycle. Her cycles have also become irregular, with intermenstrual bleeding for the last two months. She now experiences significant dysmenorrhea, requiring 400 mg ibuprofen every four hours for the majority of each menses. In addition, she reports new onset mild dyspareunia with intercourse and a “heavy feeling” in her pelvis. She has also noticed increased urinary frequency but denies bowel changes. The patient has a past medical history of obesity and type II diabetes on metformin. Her last child was born four years ago, and she has had five spontaneous vaginal deliveries. At this office visit, temperature is 98.5°F (36.9°C), blood pressure is 137/84 mmHg, pulse is 87/min, and respirations are 14/min. Which of the following physical exam findings is most likely to be present in this patient?\n",
    "\n",
    "[A] : Globular 10-week sized uterus\n",
    "[B] : Adnexal mass\n",
    "[C] : Irregular 14-week sized uterus\n",
    "[D] : No remarkable physical exam finding\n",
    "\"\"\"\n",
    "\n",
    "messages = [{\"role\": \"user\", \"content\": f\"{model_prompt}\"}]\n",
    "# add_generation_prompt indicates the start of a response\n",
    "inputs = trainer.tokenizer.apply_chat_template(messages, add_generation_prompt = True, return_tensors = \"pt\").to(trainer.device)\n",
    "# print(\"inputs:\", tokenizer.apply_chat_template(messages, add_generation_prompt = True, tokenize = False))\n",
    "generate_kwargs = {\n",
    "    \"max_new_tokens\": 1024,\n",
    "    \"do_sample\": False,\n",
    "    # \"temperature\": 0.00001,\n",
    "}\n",
    "outputs = trainer.model.generate(inputs, **generate_kwargs)\n",
    "\n",
    "text = trainer.tokenizer.batch_decode(outputs)[0]\n",
    "# output_text = run_inference(model_prompt, self.model, self.tokenizer, max_new_tokens = 1024, temperature = self.temperature)\n",
    "# output_text = output_text.split(\"<|assistant|>\")[-1]\n",
    "print(\"model output:\", text)"
   ]
  },
  {
   "cell_type": "code",
   "execution_count": null,
   "id": "1858b9d1-441c-4cea-a6c5-232c55c02302",
   "metadata": {},
   "outputs": [],
   "source": []
  }
 ],
 "metadata": {
  "kernelspec": {
   "display_name": "Python (LLM)",
   "language": "python",
   "name": "llm"
  },
  "language_info": {
   "codemirror_mode": {
    "name": "ipython",
    "version": 3
   },
   "file_extension": ".py",
   "mimetype": "text/x-python",
   "name": "python",
   "nbconvert_exporter": "python",
   "pygments_lexer": "ipython3",
   "version": "3.9.21"
  }
 },
 "nbformat": 4,
 "nbformat_minor": 5
}

{
 "cells": [
  {
   "cell_type": "code",
   "execution_count": 3,
   "id": "e9710416-16a9-4eab-b293-b3a53740388d",
   "metadata": {},
   "outputs": [
    {
     "name": "stdout",
     "output_type": "stream",
     "text": [
      "done\n"
     ]
    }
   ],
   "source": [
    "import os\n",
    "\n",
    "# # Set ALL necessary Hugging Face cache paths\n",
    "os.environ[\"HF_HOME\"] = \"/projects/sciences/computing/sheju347/.cache/huggingface\"\n",
    "os.environ[\"HF_HUB_CACHE\"] = \"/projects/sciences/computing/sheju347/.cache/huggingface/hub\"\n",
    "# os.environ[\"TRANSFORMERS_CACHE\"] = \"/projects/sciences/computing/sheju347/.cache/transformers\"\n",
    "# os.environ[\"HF_DATASETS_CACHE\"] = \"/projects/sciences/computing/sheju347/.cache/datasets\"\n",
    "\n",
    "\n",
    "from datasets import load_dataset\n",
    "ds = load_dataset(\"MedRAG/pubmed\", split = \"train\")\n",
    "\n",
    "print (\"done\")"
   ]
  },
  {
   "cell_type": "code",
   "execution_count": 4,
   "id": "33a48c04-27fb-4c82-91b8-5d7799c967a8",
   "metadata": {},
   "outputs": [],
   "source": [
    "\n",
    "data_list = ds.select(range(10000))\n",
    "textList = []\n",
    "for data in data_list:\n",
    "    text = data[\"contents\"]\n",
    "    textList.append(text)"
   ]
  },
  {
   "cell_type": "code",
   "execution_count": 5,
   "id": "4221cd76-7d47-44f2-8f7e-a0a8cb004bb5",
   "metadata": {},
   "outputs": [],
   "source": [
    "from transformers import AutoTokenizer, AutoModel\n",
    "import torch\n",
    "\n",
    "model_name = \"microsoft/BiomedNLP-BiomedBERT-base-uncased-abstract\"\n",
    "tokenizer = AutoTokenizer.from_pretrained(model_name)\n",
    "model = AutoModel.from_pretrained(model_name)\n",
    "model.eval()\n",
    "\n",
    "def embed_text(text, device=\"cpu\"):\n",
    "    inputs = tokenizer(text, truncation=True, return_tensors=\"pt\", max_length=512)\n",
    "    with torch.no_grad():\n",
    "        outputs = model(**{k: v.to(device) for k, v in inputs.items()})\n",
    "    cls_embedding = outputs.last_hidden_state[0, 0, :]  # [CLS] token of the first (and only) sequence\n",
    "    return cls_embedding.cpu().numpy()\n",
    "    "
   ]
  },
  {
   "cell_type": "code",
   "execution_count": null,
   "id": "23d27ab9-e0e8-43ab-bccc-4edb9ba20afc",
   "metadata": {},
   "outputs": [],
   "source": [
    "import tqdm\n",
    "\n",
    "embeddings = []\n",
    "for text in tqdm.tqdm(textList, desc = \"embedding\"):\n",
    "    embedding = embed_text(text)\n",
    "print(embeddings)"
   ]
  },
  {
   "cell_type": "code",
   "execution_count": null,
   "id": "5d8e6d21-d5ce-49d9-867c-12232aac5fba",
   "metadata": {},
   "outputs": [],
   "source": [
    "dim = embeddings.shape[1]\n",
    "print(dim)"
   ]
  },
  {
   "cell_type": "code",
   "execution_count": null,
   "id": "07039d51-8596-47b7-abae-28eac081af53",
   "metadata": {},
   "outputs": [],
   "source": [
    "import numpy as np \n",
    "\n",
    "# Fix: Ensure embeddings are C-contiguous and float32\n",
    "embeddings = np.ascontiguousarray(embeddings, dtype='float32')\n",
    "\n",
    "nlist = 10  # Number of clusters (high: more accurate, but slower)\n",
    "index = faiss.IndexIVFFlat(faiss.IndexFlatL2(dim), dim, nlist)\n",
    "index.train(embeddings) # K-means clustering\n",
    "index.add(embeddings)\n",
    "index.nprobe = 10 # Search 10 clusters per query\n",
    "\n",
    "faiss.write_index(index, \"/projects/sciences/computing/sheju347/RAG/pubmed_faiss_ivf.index\")\n",
    "print(\"done\")"
   ]
  },
  {
   "cell_type": "code",
   "execution_count": null,
   "id": "95c5916c-d481-49c6-9245-688855d25583",
   "metadata": {},
   "outputs": [],
   "source": [
    "index = faiss.read_index(\"/projects/sciences/computing/sheju347/RAG/pubmed_faiss_ivf.index\")\n",
    "\n"
   ]
  },
  {
   "cell_type": "code",
   "execution_count": null,
   "id": "4087dc9c-91ab-40d4-8104-c45e8e4d2353",
   "metadata": {},
   "outputs": [],
   "source": [
    "query = \"Influence of a new virostatic compound on the induction of enzymes in rat liver. The virostatic compound N,N-diethyl-4-[2-(2-oxo-3-tetradecyl-1-imidazolidinyl)-ethyl]-1-piperazinecarboxamide-hydrochloride (5531) was analyzed as to its effect on the induction of tryptophan-pyrrolase and tyrosineaminotransferase in rat liver. 1. The basic activity of the enzymes was not influenced by the substance either in normal or in adrenalectomized animals\"\n",
    "query_embedding = embed_text(query)\n",
    "D, I = index.search(query_embedding, k=3) # k-nearest neighbor search\n",
    "print(D, I)"
   ]
  },
  {
   "cell_type": "code",
   "execution_count": null,
   "id": "d1e06701-58fc-42e0-9b9a-ceb35e857f4f",
   "metadata": {},
   "outputs": [],
   "source": []
  }
 ],
 "metadata": {
  "kernelspec": {
   "display_name": "Python (LLM)",
   "language": "python",
   "name": "llm"
  },
  "language_info": {
   "codemirror_mode": {
    "name": "ipython",
    "version": 3
   },
   "file_extension": ".py",
   "mimetype": "text/x-python",
   "name": "python",
   "nbconvert_exporter": "python",
   "pygments_lexer": "ipython3",
   "version": "3.9.21"
  }
 },
 "nbformat": 4,
 "nbformat_minor": 5
}

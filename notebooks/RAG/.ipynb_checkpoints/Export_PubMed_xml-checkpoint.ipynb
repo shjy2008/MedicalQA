{
 "cells": [
  {
   "cell_type": "code",
   "execution_count": 1,
   "id": "c00a79c9-9709-4b37-8cbc-4394cc2da2b7",
   "metadata": {},
   "outputs": [
    {
     "name": "stderr",
     "output_type": "stream",
     "text": [
      "/home/sheju347/.local/lib/python3.9/site-packages/tqdm/auto.py:21: TqdmWarning: IProgress not found. Please update jupyter and ipywidgets. See https://ipywidgets.readthedocs.io/en/stable/user_install.html\n",
      "  from .autonotebook import tqdm as notebook_tqdm\n"
     ]
    },
    {
     "name": "stdout",
     "output_type": "stream",
     "text": [
      "done\n"
     ]
    }
   ],
   "source": [
    "import os\n",
    "\n",
    "# # Set ALL necessary Hugging Face cache paths\n",
    "os.environ[\"HF_HOME\"] = \"/projects/sciences/computing/sheju347/.cache/huggingface\"\n",
    "os.environ[\"HF_HUB_CACHE\"] = \"/projects/sciences/computing/sheju347/.cache/huggingface/hub\"\n",
    "# os.environ[\"TRANSFORMERS_CACHE\"] = \"/projects/sciences/computing/sheju347/.cache/transformers\"\n",
    "# os.environ[\"HF_DATASETS_CACHE\"] = \"/projects/sciences/computing/sheju347/.cache/datasets\"\n",
    "\n",
    "\n",
    "from datasets import load_dataset\n",
    "ds = load_dataset(\"MedRAG/pubmed\", split = \"train\")\n",
    "\n",
    "print (\"done\")"
   ]
  },
  {
   "cell_type": "code",
   "execution_count": 2,
   "id": "b6b1b210-ecaf-4509-911e-532e83824944",
   "metadata": {},
   "outputs": [
    {
     "name": "stdout",
     "output_type": "stream",
     "text": [
      "23898701\n"
     ]
    }
   ],
   "source": [
    "print(len(ds))"
   ]
  },
  {
   "cell_type": "code",
   "execution_count": 4,
   "id": "7d51bcdd-d2de-426c-968d-9c5649725864",
   "metadata": {},
   "outputs": [
    {
     "name": "stdout",
     "output_type": "stream",
     "text": [
      "finish: 0\n"
     ]
    }
   ],
   "source": [
    "\n",
    "with open('/projects/sciences/computing/sheju347/RAG/PubMed_abstract_100000.xml', \"w\") as file:        \n",
    "    for i in range(len(ds)):\n",
    "        data = ds[i]\n",
    "        file.write(\"<DOC>\\n\")\n",
    "        file.write(\"<DOCNO>\\n\")\n",
    "        file.write(f\"{data['id']}\\n\")\n",
    "        file.write(\"</DOCNO>\\n\")\n",
    "        file.write(\"<TEXT>\\n\")\n",
    "        file.write(f\"{data['contents']}\\n\")\n",
    "        file.write(\"</TEXT>\\n\")\n",
    "    \n",
    "        file.write(\"</DOC>\\n\")\n",
    "\n",
    "        if i % 100000 == 0:\n",
    "            print(f\"finish: {i}\")\n",
    "\n",
    "        if i == 100000:\n",
    "            break"
   ]
  },
  {
   "cell_type": "code",
   "execution_count": null,
   "id": "13df6c4e-1b0c-468b-b5d2-c94624b8a572",
   "metadata": {},
   "outputs": [],
   "source": [
    "from datasets import load_dataset\n",
    "import re\n",
    "\n",
    "def create_UltraMedical_xml():\n",
    "    train_dataset = load_dataset(\"TsinghuaC3I/UltraMedical\")[\"train\"]\n",
    "\n",
    "    i = 0\n",
    "    with open('data/UltraMedical_questions.xml', \"w\") as file:\n",
    "        for train in train_dataset:\n",
    "            file.write(\"<DOC>\\n\")\n",
    "            file.write(f\"<DOCNO>{train['id']}</DOCNO>\\n\")\n",
    "            file.write(\"<TEXT>\\n\")\n",
    "            question = train[\"conversations\"][0][\"value\"]\n",
    "            file.write(question)\n",
    "            file.write(\"\\n</TEXT>\\n\")\n",
    "\n",
    "            file.write(\"<ANSWER>\\n\")\n",
    "            answer_letter = train[\"answer\"]\n",
    "            if answer_letter in ['A', 'B', 'C', 'D', 'E']:\n",
    "                pattern = rf'{answer_letter}\\.\\s*(.*)'\n",
    "                match = re.search(pattern, question)\n",
    "                if match:\n",
    "                    answer = match.group(1).strip()\n",
    "                else:\n",
    "                    print(\"question\", question)\n",
    "                file.write(answer)\n",
    "            file.write(\"\\n</ANSWER>\\n\")\n",
    "\n",
    "            file.write(\"</DOC>\\n\")\n",
    "\n",
    "            i += 1\n",
    "            if i % 10000 == 0:\n",
    "                print(f\"Finish {i}/{len(train_dataset)}\")\n",
    "\n",
    "    print(\"All done.\")\n",
    "\n",
    "def create_MedQA_test_xml():\n",
    "    test_dataset = load_dataset(\"GBaker/MedQA-USMLE-4-options\")[\"test\"]\n",
    "\n",
    "    i = 0\n",
    "    with open('data/MedQA_test_questions.xml', \"w\") as file:\n",
    "        for test in test_dataset:\n",
    "            file.write(\"<DOC>\\n\")\n",
    "            file.write(\"<TEXT>\\n\")\n",
    "            file.write(f\"{test['question']}\\n\\n\")\n",
    "            for k, v in test['options'].items():\n",
    "                file.write(f\"{k}. {v}\\n\")\n",
    "            file.write(\"</TEXT>\\n\")\n",
    "\n",
    "            file.write(\"<ANSWER>\\n\")\n",
    "            answer = test[\"answer\"]\n",
    "            file.write(answer)\n",
    "            file.write(\"\\n</ANSWER>\\n\")\n",
    "\n",
    "            file.write(\"</DOC>\\n\")\n",
    "\n",
    "            i += 1\n",
    "            if i % 10000 == 0:\n",
    "                print(f\"Finish {i}/{len(test_dataset)}\")\n",
    "\n",
    "    print(\"All done.\")\n",
    "\n",
    "\n",
    "if __name__ == \"__main__\":\n",
    "    create_UltraMedical_xml()\n",
    "    # create_MedQA_test_xml()"
   ]
  }
 ],
 "metadata": {
  "kernelspec": {
   "display_name": "Python (LLM)",
   "language": "python",
   "name": "llm"
  },
  "language_info": {
   "codemirror_mode": {
    "name": "ipython",
    "version": 3
   },
   "file_extension": ".py",
   "mimetype": "text/x-python",
   "name": "python",
   "nbconvert_exporter": "python",
   "pygments_lexer": "ipython3",
   "version": "3.9.21"
  }
 },
 "nbformat": 4,
 "nbformat_minor": 5
}

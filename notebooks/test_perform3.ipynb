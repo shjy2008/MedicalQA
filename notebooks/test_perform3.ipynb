{
 "cells": [
  {
   "cell_type": "code",
   "execution_count": 1,
   "id": "349a8d9c-2c15-4b55-815b-a696377a14ce",
   "metadata": {},
   "outputs": [
    {
     "name": "stderr",
     "output_type": "stream",
     "text": [
      "/home/sheju347/.local/lib/python3.9/site-packages/tqdm/auto.py:21: TqdmWarning: IProgress not found. Please update jupyter and ipywidgets. See https://ipywidgets.readthedocs.io/en/stable/user_install.html\n",
      "  from .autonotebook import tqdm as notebook_tqdm\n"
     ]
    }
   ],
   "source": [
    "from train_phi_3_mini import ModelTrainer\n",
    "from test_performance import TestPerformance, DatasetPath, MMLU_Subset"
   ]
  },
  {
   "cell_type": "code",
   "execution_count": null,
   "id": "4f3bca44-8f93-45ae-81e4-b133b6f44ec1",
   "metadata": {},
   "outputs": [
    {
     "name": "stdout",
     "output_type": "stream",
     "text": [
      "---------- start checking GPU -----------\n",
      "GPU: NVIDIA A100-PCIE-40GB\n",
      "torch.cuda.is_bf16_supported():  True\n",
      "---------- finish checking GPU -----------\n",
      "---------- start loading model:../../../projects/sciences/computing/sheju347/MedicalQA/train/saved_models/fine_tuned_model_entire_UltraMedical_batch_4 -----------\n",
      "finish loading tokenizer\n"
     ]
    },
    {
     "name": "stderr",
     "output_type": "stream",
     "text": [
      "Loading checkpoint shards: 100%|██████████| 2/2 [00:00<00:00,  3.52it/s]\n"
     ]
    },
    {
     "name": "stdout",
     "output_type": "stream",
     "text": [
      "finish loading model\n",
      "torch_dtype: torch.bfloat16\n",
      "cuda available: True\n",
      "device: cuda\n",
      "---------- finish loading model:../../../projects/sciences/computing/sheju347/MedicalQA/train/saved_models/fine_tuned_model_entire_UltraMedical_batch_4 -----------\n",
      "----------- start testing model ../../../projects/sciences/computing/sheju347/MedicalQA/train/saved_models/fine_tuned_model_entire_UltraMedical_batch_4 accuracy ------------\n",
      "model: ../../../projects/sciences/computing/sheju347/MedicalQA/train/saved_models/fine_tuned_model_entire_UltraMedical_batch_4\n",
      "answer: C\n",
      "answer: C\n",
      "answer: C\n",
      "answer: C\n",
      "answer: A\n",
      "question 1/144 answer:C correct_answer:C True\n",
      "answer: C\n",
      "answer: C\n",
      "answer: C\n",
      "answer: C\n",
      "answer: C\n",
      "question 2/144 answer:C correct_answer:C True\n",
      "answer: A\n",
      "answer: A\n",
      "answer: A\n",
      "answer: A\n",
      "answer: A\n",
      "question 3/144 answer:A correct_answer:A True\n"
     ]
    }
   ],
   "source": [
    "\n",
    "trainer = ModelTrainer()\n",
    "\n",
    "# model_name = \"microsoft/Phi-3-mini-4k-instruct\"\n",
    "model_name = \"../../../projects/sciences/computing/sheju347/MedicalQA/train/saved_models/fine_tuned_model_entire_UltraMedical_batch_4\"\n",
    "\n",
    "trainer.load_model(model_name)\n",
    "# trainer.test_model_MedQA_response()\n",
    "trainer.test_model_accuracy(DatasetPath.MMLU, subset_name = MMLU_Subset.College_biology, is_ensemble = True)\n"
   ]
  },
  {
   "cell_type": "code",
   "execution_count": null,
   "id": "b437b64c-6af2-4623-959f-88762576e44d",
   "metadata": {},
   "outputs": [],
   "source": []
  }
 ],
 "metadata": {
  "kernelspec": {
   "display_name": "Python (LLM)",
   "language": "python",
   "name": "llm"
  },
  "language_info": {
   "codemirror_mode": {
    "name": "ipython",
    "version": 3
   },
   "file_extension": ".py",
   "mimetype": "text/x-python",
   "name": "python",
   "nbconvert_exporter": "python",
   "pygments_lexer": "ipython3",
   "version": "3.9.21"
  }
 },
 "nbformat": 4,
 "nbformat_minor": 5
}
